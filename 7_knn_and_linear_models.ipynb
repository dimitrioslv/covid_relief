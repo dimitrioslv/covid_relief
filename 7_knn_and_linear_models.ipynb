{
 "cells": [
  {
   "cell_type": "markdown",
   "id": "80be0ddc",
   "metadata": {},
   "source": [
    "### Linear and KNN models"
   ]
  },
  {
   "cell_type": "markdown",
   "id": "17ce7d2d",
   "metadata": {},
   "source": [
    "In this notebook I will be creating a knn classification model as well as a linear regression model from our merged datasets. "
   ]
  },
  {
   "cell_type": "code",
   "execution_count": 1,
   "id": "554f1bf7",
   "metadata": {},
   "outputs": [],
   "source": [
    "import numpy as np\n",
    "import pandas as pd\n",
    "import matplotlib.pyplot as plt\n",
    "import seaborn as sns\n",
    "from sklearn.preprocessing import StandardScaler\n",
    "from sklearn.linear_model import LinearRegression, LogisticRegression\n",
    "from sklearn.neighbors import KNeighborsClassifier\n",
    "from sklearn.pipeline import Pipeline\n",
    "from sklearn.model_selection import train_test_split, cross_val_score, GridSearchCV, KFold"
   ]
  },
  {
   "cell_type": "code",
   "execution_count": 2,
   "id": "3912babd",
   "metadata": {},
   "outputs": [],
   "source": [
    "df = pd.read_csv(\"data/merged_dataset.csv\")"
   ]
  },
  {
   "cell_type": "code",
   "execution_count": 3,
   "id": "8e3e28a9",
   "metadata": {},
   "outputs": [
    {
     "data": {
      "text/plain": [
       "(3133, 54)"
      ]
     },
     "execution_count": 3,
     "metadata": {},
     "output_type": "execute_result"
    }
   ],
   "source": [
    "df.shape"
   ]
  },
  {
   "cell_type": "markdown",
   "id": "b54b1a19",
   "metadata": {},
   "source": [
    "Since many datasets were used to create the merged dataframe there will be quite a few missing values that we will have to deal with. "
   ]
  },
  {
   "cell_type": "code",
   "execution_count": 4,
   "id": "7c1b0dbf",
   "metadata": {},
   "outputs": [
    {
     "data": {
      "text/plain": [
       "county                                                           0\n",
       "county_fips_code                                                 0\n",
       "cases                                                            0\n",
       "deaths                                                           0\n",
       "stname                                                           0\n",
       "ctyname                                                          0\n",
       "tot_pop                                                          0\n",
       "deaths_per_hun_thou                                              0\n",
       "cnty_name                                                        1\n",
       "unemployment_rate                                                1\n",
       "med_cases_per_100k_change                                        0\n",
       "med_per_test_results_positive                                   18\n",
       "transmission_level_high                                          0\n",
       "transmission_level_low                                           0\n",
       "transmission_level_moderate                                      0\n",
       "transmission_level_substantial                                   0\n",
       "state                                                            1\n",
       "InBedsOccAnyPat__Numbeds_Est                                     1\n",
       "InBedsOccCOVID__Numbeds_Est                                      1\n",
       "ICUBedsOccAnyPat__N_ICUBeds_Est                                  1\n",
       "cases_per_10k                                                    0\n",
       "high_transmission                                                0\n",
       "mask_never                                                       0\n",
       "mask_rarely                                                      0\n",
       "mask_sometimes                                                   0\n",
       "mask_frequently                                                  0\n",
       "mask_always                                                      0\n",
       "good_masking_practices                                           0\n",
       "biden_votes                                                     25\n",
       "trump_votes                                                     25\n",
       "total_votes                                                     26\n",
       "land_area_sqmi                                                   0\n",
       "population_density                                               0\n",
       "total_beds_7_day_sum                                           703\n",
       "inpatient_beds_used_7_day_sum                                  703\n",
       "inpatient_beds_used_covid_7_day_sum                            703\n",
       "inpatient_beds_7_day_sum                                       703\n",
       "total_icu_beds_7_day_sum                                       703\n",
       "total_staffed_adult_icu_beds_7_day_sum                         703\n",
       "icu_beds_used_7_day_sum                                        703\n",
       "staffed_icu_adult_patients_confirmed_covid_7_day_sum           703\n",
       "total_adult_patients_hospitalized_confirmed_covid_7_day_sum    703\n",
       "county_vac_pct                                                   1\n",
       "SVI__A                                                           1\n",
       "SVI__B                                                           1\n",
       "SVI__C                                                           1\n",
       "SVI__D                                                           1\n",
       "tot_male                                                         0\n",
       "tot_female                                                       0\n",
       "tot_wa_pop                                                       0\n",
       "tot_ba_pop                                                       0\n",
       "tot_aa_pop                                                       0\n",
       "tot_na_pop                                                       0\n",
       "minority_group_total                                             0\n",
       "dtype: int64"
      ]
     },
     "execution_count": 4,
     "metadata": {},
     "output_type": "execute_result"
    }
   ],
   "source": [
    "df.isnull().sum()"
   ]
  },
  {
   "cell_type": "markdown",
   "id": "2dc3fdd3",
   "metadata": {},
   "source": [
    "For the columns pertaining to beds and \"pct\" I will be dropping them. I don't feel that there is a reasonable way to impute these nulls. The columns pertaining to voting are all missing roughly the same rows which probably means that there was no data to collect in those counties. The remaining nulls will be dropped as they are less than 5 percent of the data.  I am also dropping all duplicate columns. Lastly the columns for county, state, and county_fips_code will be dropped as they are identifying columns and will not contribute to our modeling. "
   ]
  },
  {
   "cell_type": "code",
   "execution_count": 6,
   "id": "e60528a5",
   "metadata": {},
   "outputs": [],
   "source": [
    "# Dropping columns that I won't be using \n",
    "df.drop(columns=['total_beds_7_day_sum', 'cnty_name',\n",
    "                'ctyname', 'stname', 'state', 'county', 'county_fips_code'], inplace=True)\n",
    "                "
   ]
  },
  {
   "cell_type": "code",
   "execution_count": 7,
   "id": "c92d1232",
   "metadata": {},
   "outputs": [],
   "source": [
    "# Dropping remaining nulls \n",
    "df.dropna(inplace=True)"
   ]
  },
  {
   "cell_type": "code",
   "execution_count": 8,
   "id": "c2d2e90b",
   "metadata": {},
   "outputs": [
    {
     "data": {
      "text/plain": [
       "(2409, 47)"
      ]
     },
     "execution_count": 8,
     "metadata": {},
     "output_type": "execute_result"
    }
   ],
   "source": [
    "df.shape"
   ]
  },
  {
   "cell_type": "markdown",
   "id": "dad681a8",
   "metadata": {},
   "source": [
    "Looking at the chart below there does not appear to be much correlation between our target variable and a lot of our features.  "
   ]
  },
  {
   "cell_type": "code",
   "execution_count": 9,
   "id": "9e0335b8",
   "metadata": {},
   "outputs": [
    {
     "data": {
      "image/png": "[encoded data removed]",
      "text/plain": [
       "<Figure size 360x864 with 2 Axes>"
      ]
     },
     "metadata": {
      "needs_background": "light"
     },
     "output_type": "display_data"
    }
   ],
   "source": [
    "# Creates correlation matrix for plot\n",
    "corr_matrix = df.corr()\n",
    "\n",
    "# Plots correlation of features\n",
    "plt.figure(figsize=(5, 12))\n",
    "ax = sns.heatmap(corr_matrix[['deaths_per_hun_thou']]\n",
    "                 .sort_values(by='deaths_per_hun_thou', ascending=False),\n",
    "         annot = True,\n",
    "         vmin = -1,\n",
    "         vmax = 1,\n",
    "         cmap = 'winter'\n",
    "                \n",
    "                 );"
   ]
  },
  {
   "cell_type": "markdown",
   "id": "0879edd5",
   "metadata": {},
   "source": [
    "## Modeling "
   ]
  },
  {
   "cell_type": "markdown",
   "id": "47b776bc",
   "metadata": {},
   "source": [
    "For my predictions on which counties will need the most help with covid I will be using deaths_per_hun_thou as my y variable. "
   ]
  },
  {
   "cell_type": "markdown",
   "id": "43399ef4",
   "metadata": {},
   "source": [
    "### Linear Model"
   ]
  },
  {
   "cell_type": "markdown",
   "id": "7dfeb027",
   "metadata": {},
   "source": [
    "As there is a poor correlation between the feature deaths_per_hun_thou and the rest of our features it does not seem that a linear model is a good fit for our problem statement."
   ]
  },
  {
   "cell_type": "code",
   "execution_count": 10,
   "id": "81cdbcb0",
   "metadata": {},
   "outputs": [
    {
     "data": {
      "text/plain": [
       "315.708127099"
      ]
     },
     "execution_count": 10,
     "metadata": {},
     "output_type": "execute_result"
    }
   ],
   "source": [
    "# baseline score \n",
    "df['deaths_per_hun_thou'].mean()"
   ]
  },
  {
   "cell_type": "code",
   "execution_count": 11,
   "id": "3576497e",
   "metadata": {},
   "outputs": [],
   "source": [
    "# Creates X variable with all columns but deaths_per_hun_thou\n",
    "X = df[[col for col in df if col not in \"deaths_per_hun_thou\"]]\n",
    "\n",
    "# Creates target variable\n",
    "y = df['deaths_per_hun_thou']\n",
    "\n",
    "# Instantiating linear regression\n",
    "linreg = LinearRegression()\n",
    "\n",
    "\n",
    "\n",
    "\n",
    "# setting cross_val_score\n",
    "scores = cross_val_score(linreg,\n",
    "                         X,\n",
    "                         y,\n",
    "                         cv=KFold(n_splits=5,\n",
    "                                  shuffle=True,\n",
    "                                  random_state=73))\n",
    "\n",
    "                                                    "
   ]
  },
  {
   "cell_type": "code",
   "execution_count": 12,
   "id": "0d96ecf5",
   "metadata": {},
   "outputs": [
    {
     "data": {
      "text/plain": [
       "0.2687825176655294"
      ]
     },
     "execution_count": 12,
     "metadata": {},
     "output_type": "execute_result"
    }
   ],
   "source": [
    "scores.mean()"
   ]
  },
  {
   "cell_type": "markdown",
   "id": "0cadecb8",
   "metadata": {},
   "source": [
    "### KNN model"
   ]
  },
  {
   "cell_type": "markdown",
   "id": "3960f621",
   "metadata": {},
   "source": [
    "To use our classification model we will need to turn our deaths_per_hun_thou into a binary column. I have chosen to make this column a 1 for counties that are above the 75th percentile of deaths_per_hun_thou and a zero for those that are below. "
   ]
  },
  {
   "cell_type": "code",
   "execution_count": 13,
   "id": "d2327252",
   "metadata": {},
   "outputs": [
    {
     "data": {
      "text/html": [
       "<div>\n",
       "<style scoped>\n",
       "    .dataframe tbody tr th:only-of-type {\n",
       "        vertical-align: middle;\n",
       "    }\n",
       "\n",
       "    .dataframe tbody tr th {\n",
       "        vertical-align: top;\n",
       "    }\n",
       "\n",
       "    .dataframe thead th {\n",
       "        text-align: right;\n",
       "    }\n",
       "</style>\n",
       "<table border=\"1\" class=\"dataframe\">\n",
       "  <thead>\n",
       "    <tr style=\"text-align: right;\">\n",
       "      <th></th>\n",
       "      <th>cases</th>\n",
       "      <th>deaths</th>\n",
       "      <th>tot_pop</th>\n",
       "      <th>deaths_per_hun_thou</th>\n",
       "      <th>unemployment_rate</th>\n",
       "      <th>med_cases_per_100k_change</th>\n",
       "      <th>med_per_test_results_positive</th>\n",
       "      <th>transmission_level_high</th>\n",
       "      <th>transmission_level_low</th>\n",
       "      <th>transmission_level_moderate</th>\n",
       "      <th>...</th>\n",
       "      <th>SVI__B</th>\n",
       "      <th>SVI__C</th>\n",
       "      <th>SVI__D</th>\n",
       "      <th>tot_male</th>\n",
       "      <th>tot_female</th>\n",
       "      <th>tot_wa_pop</th>\n",
       "      <th>tot_ba_pop</th>\n",
       "      <th>tot_aa_pop</th>\n",
       "      <th>tot_na_pop</th>\n",
       "      <th>minority_group_total</th>\n",
       "    </tr>\n",
       "  </thead>\n",
       "  <tbody>\n",
       "    <tr>\n",
       "      <th>count</th>\n",
       "      <td>2.409000e+03</td>\n",
       "      <td>2409.000000</td>\n",
       "      <td>2.409000e+03</td>\n",
       "      <td>2409.000000</td>\n",
       "      <td>2409.000000</td>\n",
       "      <td>2409.000000</td>\n",
       "      <td>2409.000000</td>\n",
       "      <td>2409.000000</td>\n",
       "      <td>2409.000000</td>\n",
       "      <td>2409.000000</td>\n",
       "      <td>...</td>\n",
       "      <td>2409.000000</td>\n",
       "      <td>2409.000000</td>\n",
       "      <td>2409.000000</td>\n",
       "      <td>2.409000e+03</td>\n",
       "      <td>2.409000e+03</td>\n",
       "      <td>2.409000e+03</td>\n",
       "      <td>2.409000e+03</td>\n",
       "      <td>2.409000e+03</td>\n",
       "      <td>2409.000000</td>\n",
       "      <td>2.409000e+03</td>\n",
       "    </tr>\n",
       "    <tr>\n",
       "      <th>mean</th>\n",
       "      <td>2.561020e+04</td>\n",
       "      <td>319.180158</td>\n",
       "      <td>1.271575e+05</td>\n",
       "      <td>315.708127</td>\n",
       "      <td>6.777127</td>\n",
       "      <td>128.939477</td>\n",
       "      <td>8.126596</td>\n",
       "      <td>0.538573</td>\n",
       "      <td>0.166939</td>\n",
       "      <td>0.155598</td>\n",
       "      <td>...</td>\n",
       "      <td>0.257368</td>\n",
       "      <td>0.249066</td>\n",
       "      <td>0.251142</td>\n",
       "      <td>6.263026e+04</td>\n",
       "      <td>6.452722e+04</td>\n",
       "      <td>9.759208e+04</td>\n",
       "      <td>1.667754e+04</td>\n",
       "      <td>7.444982e+03</td>\n",
       "      <td>318.605645</td>\n",
       "      <td>1.667754e+04</td>\n",
       "    </tr>\n",
       "    <tr>\n",
       "      <th>std</th>\n",
       "      <td>7.911837e+04</td>\n",
       "      <td>944.919953</td>\n",
       "      <td>3.682023e+05</td>\n",
       "      <td>137.159741</td>\n",
       "      <td>2.191081</td>\n",
       "      <td>56.354249</td>\n",
       "      <td>3.741629</td>\n",
       "      <td>0.091791</td>\n",
       "      <td>0.083982</td>\n",
       "      <td>0.061195</td>\n",
       "      <td>...</td>\n",
       "      <td>0.437275</td>\n",
       "      <td>0.432562</td>\n",
       "      <td>0.433760</td>\n",
       "      <td>1.811967e+05</td>\n",
       "      <td>1.870413e+05</td>\n",
       "      <td>2.643150e+05</td>\n",
       "      <td>6.218002e+04</td>\n",
       "      <td>4.794595e+04</td>\n",
       "      <td>2479.081403</td>\n",
       "      <td>6.218002e+04</td>\n",
       "    </tr>\n",
       "    <tr>\n",
       "      <th>min</th>\n",
       "      <td>1.630000e+02</td>\n",
       "      <td>0.000000</td>\n",
       "      <td>1.077000e+03</td>\n",
       "      <td>0.000000</td>\n",
       "      <td>1.700000</td>\n",
       "      <td>0.000000</td>\n",
       "      <td>0.000000</td>\n",
       "      <td>0.101530</td>\n",
       "      <td>0.054242</td>\n",
       "      <td>0.000000</td>\n",
       "      <td>...</td>\n",
       "      <td>0.000000</td>\n",
       "      <td>0.000000</td>\n",
       "      <td>0.000000</td>\n",
       "      <td>5.440000e+02</td>\n",
       "      <td>5.330000e+02</td>\n",
       "      <td>9.330000e+02</td>\n",
       "      <td>2.000000e+00</td>\n",
       "      <td>0.000000e+00</td>\n",
       "      <td>0.000000</td>\n",
       "      <td>2.000000e+00</td>\n",
       "    </tr>\n",
       "    <tr>\n",
       "      <th>25%</th>\n",
       "      <td>3.121000e+03</td>\n",
       "      <td>48.000000</td>\n",
       "      <td>1.556100e+04</td>\n",
       "      <td>220.264317</td>\n",
       "      <td>5.300000</td>\n",
       "      <td>100.957000</td>\n",
       "      <td>5.765000</td>\n",
       "      <td>0.482615</td>\n",
       "      <td>0.102921</td>\n",
       "      <td>0.112656</td>\n",
       "      <td>...</td>\n",
       "      <td>0.000000</td>\n",
       "      <td>0.000000</td>\n",
       "      <td>0.000000</td>\n",
       "      <td>7.813000e+03</td>\n",
       "      <td>7.675000e+03</td>\n",
       "      <td>1.262900e+04</td>\n",
       "      <td>2.140000e+02</td>\n",
       "      <td>8.900000e+01</td>\n",
       "      <td>7.000000</td>\n",
       "      <td>2.140000e+02</td>\n",
       "    </tr>\n",
       "    <tr>\n",
       "      <th>50%</th>\n",
       "      <td>7.283000e+03</td>\n",
       "      <td>112.000000</td>\n",
       "      <td>3.558900e+04</td>\n",
       "      <td>305.970802</td>\n",
       "      <td>6.600000</td>\n",
       "      <td>131.327000</td>\n",
       "      <td>7.780000</td>\n",
       "      <td>0.539638</td>\n",
       "      <td>0.150209</td>\n",
       "      <td>0.151599</td>\n",
       "      <td>...</td>\n",
       "      <td>0.000000</td>\n",
       "      <td>0.000000</td>\n",
       "      <td>0.000000</td>\n",
       "      <td>1.766300e+04</td>\n",
       "      <td>1.766500e+04</td>\n",
       "      <td>3.064400e+04</td>\n",
       "      <td>1.289000e+03</td>\n",
       "      <td>2.730000e+02</td>\n",
       "      <td>24.000000</td>\n",
       "      <td>1.289000e+03</td>\n",
       "    </tr>\n",
       "    <tr>\n",
       "      <th>75%</th>\n",
       "      <td>1.915300e+04</td>\n",
       "      <td>256.000000</td>\n",
       "      <td>9.731100e+04</td>\n",
       "      <td>400.117193</td>\n",
       "      <td>8.100000</td>\n",
       "      <td>164.564000</td>\n",
       "      <td>9.925000</td>\n",
       "      <td>0.595271</td>\n",
       "      <td>0.210014</td>\n",
       "      <td>0.191933</td>\n",
       "      <td>...</td>\n",
       "      <td>1.000000</td>\n",
       "      <td>0.000000</td>\n",
       "      <td>1.000000</td>\n",
       "      <td>4.788300e+04</td>\n",
       "      <td>4.908700e+04</td>\n",
       "      <td>8.033200e+04</td>\n",
       "      <td>8.500000e+03</td>\n",
       "      <td>1.394000e+03</td>\n",
       "      <td>104.000000</td>\n",
       "      <td>8.500000e+03</td>\n",
       "    </tr>\n",
       "    <tr>\n",
       "      <th>max</th>\n",
       "      <td>2.312272e+06</td>\n",
       "      <td>28122.000000</td>\n",
       "      <td>1.003911e+07</td>\n",
       "      <td>1102.883252</td>\n",
       "      <td>22.500000</td>\n",
       "      <td>330.865000</td>\n",
       "      <td>43.750000</td>\n",
       "      <td>0.840056</td>\n",
       "      <td>0.625869</td>\n",
       "      <td>0.403338</td>\n",
       "      <td>...</td>\n",
       "      <td>1.000000</td>\n",
       "      <td>1.000000</td>\n",
       "      <td>1.000000</td>\n",
       "      <td>4.949041e+06</td>\n",
       "      <td>5.090066e+06</td>\n",
       "      <td>7.098309e+06</td>\n",
       "      <td>1.226489e+06</td>\n",
       "      <td>1.545445e+06</td>\n",
       "      <td>93325.000000</td>\n",
       "      <td>1.226489e+06</td>\n",
       "    </tr>\n",
       "  </tbody>\n",
       "</table>\n",
       "<p>8 rows × 47 columns</p>\n",
       "</div>"
      ],
      "text/plain": [
       "              cases        deaths       tot_pop  deaths_per_hun_thou  \\\n",
       "count  2.409000e+03   2409.000000  2.409000e+03          2409.000000   \n",
       "mean   2.561020e+04    319.180158  1.271575e+05           315.708127   \n",
       "std    7.911837e+04    944.919953  3.682023e+05           137.159741   \n",
       "min    1.630000e+02      0.000000  1.077000e+03             0.000000   \n",
       "25%    3.121000e+03     48.000000  1.556100e+04           220.264317   \n",
       "50%    7.283000e+03    112.000000  3.558900e+04           305.970802   \n",
       "75%    1.915300e+04    256.000000  9.731100e+04           400.117193   \n",
       "max    2.312272e+06  28122.000000  1.003911e+07          1102.883252   \n",
       "\n",
       "       unemployment_rate  med_cases_per_100k_change  \\\n",
       "count        2409.000000                2409.000000   \n",
       "mean            6.777127                 128.939477   \n",
       "std             2.191081                  56.354249   \n",
       "min             1.700000                   0.000000   \n",
       "25%             5.300000                 100.957000   \n",
       "50%             6.600000                 131.327000   \n",
       "75%             8.100000                 164.564000   \n",
       "max            22.500000                 330.865000   \n",
       "\n",
       "       med_per_test_results_positive  transmission_level_high  \\\n",
       "count                    2409.000000              2409.000000   \n",
       "mean                        8.126596                 0.538573   \n",
       "std                         3.741629                 0.091791   \n",
       "min                         0.000000                 0.101530   \n",
       "25%                         5.765000                 0.482615   \n",
       "50%                         7.780000                 0.539638   \n",
       "75%                         9.925000                 0.595271   \n",
       "max                        43.750000                 0.840056   \n",
       "\n",
       "       transmission_level_low  transmission_level_moderate  ...       SVI__B  \\\n",
       "count             2409.000000                  2409.000000  ...  2409.000000   \n",
       "mean                 0.166939                     0.155598  ...     0.257368   \n",
       "std                  0.083982                     0.061195  ...     0.437275   \n",
       "min                  0.054242                     0.000000  ...     0.000000   \n",
       "25%                  0.102921                     0.112656  ...     0.000000   \n",
       "50%                  0.150209                     0.151599  ...     0.000000   \n",
       "75%                  0.210014                     0.191933  ...     1.000000   \n",
       "max                  0.625869                     0.403338  ...     1.000000   \n",
       "\n",
       "            SVI__C       SVI__D      tot_male    tot_female    tot_wa_pop  \\\n",
       "count  2409.000000  2409.000000  2.409000e+03  2.409000e+03  2.409000e+03   \n",
       "mean      0.249066     0.251142  6.263026e+04  6.452722e+04  9.759208e+04   \n",
       "std       0.432562     0.433760  1.811967e+05  1.870413e+05  2.643150e+05   \n",
       "min       0.000000     0.000000  5.440000e+02  5.330000e+02  9.330000e+02   \n",
       "25%       0.000000     0.000000  7.813000e+03  7.675000e+03  1.262900e+04   \n",
       "50%       0.000000     0.000000  1.766300e+04  1.766500e+04  3.064400e+04   \n",
       "75%       0.000000     1.000000  4.788300e+04  4.908700e+04  8.033200e+04   \n",
       "max       1.000000     1.000000  4.949041e+06  5.090066e+06  7.098309e+06   \n",
       "\n",
       "         tot_ba_pop    tot_aa_pop    tot_na_pop  minority_group_total  \n",
       "count  2.409000e+03  2.409000e+03   2409.000000          2.409000e+03  \n",
       "mean   1.667754e+04  7.444982e+03    318.605645          1.667754e+04  \n",
       "std    6.218002e+04  4.794595e+04   2479.081403          6.218002e+04  \n",
       "min    2.000000e+00  0.000000e+00      0.000000          2.000000e+00  \n",
       "25%    2.140000e+02  8.900000e+01      7.000000          2.140000e+02  \n",
       "50%    1.289000e+03  2.730000e+02     24.000000          1.289000e+03  \n",
       "75%    8.500000e+03  1.394000e+03    104.000000          8.500000e+03  \n",
       "max    1.226489e+06  1.545445e+06  93325.000000          1.226489e+06  \n",
       "\n",
       "[8 rows x 47 columns]"
      ]
     },
     "execution_count": 13,
     "metadata": {},
     "output_type": "execute_result"
    }
   ],
   "source": [
    "df.describe()"
   ]
  },
  {
   "cell_type": "code",
   "execution_count": 14,
   "id": "613a8179",
   "metadata": {},
   "outputs": [],
   "source": [
    "# Creates binary column\n",
    "df.deaths_per_hun_thou = np.where(df['deaths_per_hun_thou'] >= 405, 1, 0)"
   ]
  },
  {
   "cell_type": "code",
   "execution_count": 15,
   "id": "f98bf2d0",
   "metadata": {},
   "outputs": [
    {
     "data": {
      "text/plain": [
       "0.7633872976338729"
      ]
     },
     "execution_count": 15,
     "metadata": {},
     "output_type": "execute_result"
    }
   ],
   "source": [
    "# baseline\n",
    "1 - df.deaths_per_hun_thou.mean()"
   ]
  },
  {
   "cell_type": "code",
   "execution_count": 16,
   "id": "fd3fbe47",
   "metadata": {},
   "outputs": [
    {
     "name": "stdout",
     "output_type": "stream",
     "text": [
      "Fitting 5 folds for each of 80 candidates, totalling 400 fits\n"
     ]
    },
    {
     "data": {
      "text/plain": [
       "GridSearchCV(cv=5,\n",
       "             estimator=Pipeline(steps=[('ss', StandardScaler()),\n",
       "                                       ('knn', KNeighborsClassifier())]),\n",
       "             param_grid={'knn__n_neighbors': [1, 3, 5, 10, 50],\n",
       "                         'knn__p': [1, 2],\n",
       "                         'knn__weights': ['uniform', 'distance'],\n",
       "                         'ss__with_mean': [True, False],\n",
       "                         'ss__with_std': [True, False]},\n",
       "             verbose=1)"
      ]
     },
     "execution_count": 16,
     "metadata": {},
     "output_type": "execute_result"
    }
   ],
   "source": [
    "# Sets up X variable for columns that have not been dropped\n",
    "X = df[[col for col in df if col not in \"deaths_per_hun_thou\"]]\n",
    "\n",
    "# Sets up target variable\n",
    "y = df['deaths_per_hun_thou']\n",
    "\n",
    "\n",
    "# Train test split\n",
    "X_train, X_test, y_train, y_test = train_test_split(X,\n",
    "                                                    y,\n",
    "                                                    test_size = 0.20,\n",
    "                                                    random_state = 73,\n",
    "                                                    stratify = y) \n",
    "\n",
    "\n",
    "# Instantiate a StandardScaler + kNN pipeline.\n",
    "pipe_knn = Pipeline([\n",
    "    ('ss', StandardScaler()),\n",
    "    ('knn', KNeighborsClassifier())\n",
    "])\n",
    "\n",
    "# Define dictionary of hyperparameters.\n",
    "pipe_knn_params = {\n",
    "    'ss__with_mean' : [True, False],\n",
    "    'ss__with_std' : [True, False],\n",
    "    'knn__weights' : ['uniform', 'distance'],\n",
    "    'knn__n_neighbors' : [1, 3, 5, 10, 50],\n",
    "    'knn__p' : [1, 2]\n",
    "}\n",
    "\n",
    "\n",
    "\n",
    "\n",
    "# Instantiate our GridSearchCV object.\n",
    "pipe_knn_gridsearch = GridSearchCV(pipe_knn, \n",
    "                                 pipe_knn_params,\n",
    "                                 cv=5,\n",
    "                                 verbose=1)\n",
    "# Fitting gridsearch\n",
    "pipe_knn_gridsearch.fit(X_train, y_train)"
   ]
  },
  {
   "cell_type": "code",
   "execution_count": 17,
   "id": "3d897b43",
   "metadata": {},
   "outputs": [
    {
     "data": {
      "text/plain": [
       "(2409, 45)"
      ]
     },
     "execution_count": 17,
     "metadata": {},
     "output_type": "execute_result"
    }
   ],
   "source": [
    "X.shape"
   ]
  },
  {
   "cell_type": "code",
   "execution_count": 18,
   "id": "f7a39f64",
   "metadata": {},
   "outputs": [
    {
     "data": {
      "text/plain": [
       "{'knn__n_neighbors': 50,\n",
       " 'knn__p': 1,\n",
       " 'knn__weights': 'distance',\n",
       " 'ss__with_mean': True,\n",
       " 'ss__with_std': True}"
      ]
     },
     "execution_count": 18,
     "metadata": {},
     "output_type": "execute_result"
    }
   ],
   "source": [
    "pipe_knn_gridsearch.best_params_"
   ]
  },
  {
   "cell_type": "code",
   "execution_count": 19,
   "id": "003d6bd0",
   "metadata": {},
   "outputs": [
    {
     "data": {
      "text/plain": [
       "0.7946058091286307"
      ]
     },
     "execution_count": 19,
     "metadata": {},
     "output_type": "execute_result"
    }
   ],
   "source": [
    "pipe_knn_gridsearch.score(X_test, y_test)"
   ]
  },
  {
   "cell_type": "markdown",
   "id": "0136f010",
   "metadata": {},
   "source": [
    "Our knn model has performed much better than our linear model with a .783 percent accuracy. Given that the classification model has performed much better I am going to further adjust the features that I'm using for my X variable to see if I can gain more meaningful results. To start I'm going to drop the population columns as we can naturaly infer that a higher population will of course see higher death rates. I will also be dropping the voting and minority_group_total columns as they have a low correlation with my target variable. "
   ]
  },
  {
   "cell_type": "code",
   "execution_count": 20,
   "id": "85eaf633",
   "metadata": {},
   "outputs": [
    {
     "data": {
      "text/html": [
       "<div>\n",
       "<style scoped>\n",
       "    .dataframe tbody tr th:only-of-type {\n",
       "        vertical-align: middle;\n",
       "    }\n",
       "\n",
       "    .dataframe tbody tr th {\n",
       "        vertical-align: top;\n",
       "    }\n",
       "\n",
       "    .dataframe thead th {\n",
       "        text-align: right;\n",
       "    }\n",
       "</style>\n",
       "<table border=\"1\" class=\"dataframe\">\n",
       "  <thead>\n",
       "    <tr style=\"text-align: right;\">\n",
       "      <th></th>\n",
       "      <th>tot_pop</th>\n",
       "      <th>tot_male</th>\n",
       "      <th>tot_female</th>\n",
       "      <th>tot_wa_pop</th>\n",
       "      <th>tot_ba_pop</th>\n",
       "      <th>tot_aa_pop</th>\n",
       "      <th>tot_na_pop</th>\n",
       "    </tr>\n",
       "  </thead>\n",
       "  <tbody>\n",
       "    <tr>\n",
       "      <th>tot_pop</th>\n",
       "      <td>1.000000</td>\n",
       "      <td>0.999900</td>\n",
       "      <td>0.999906</td>\n",
       "      <td>0.990255</td>\n",
       "      <td>0.796024</td>\n",
       "      <td>0.838057</td>\n",
       "      <td>0.474010</td>\n",
       "    </tr>\n",
       "    <tr>\n",
       "      <th>tot_male</th>\n",
       "      <td>0.999900</td>\n",
       "      <td>1.000000</td>\n",
       "      <td>0.999612</td>\n",
       "      <td>0.990757</td>\n",
       "      <td>0.790400</td>\n",
       "      <td>0.840743</td>\n",
       "      <td>0.477487</td>\n",
       "    </tr>\n",
       "    <tr>\n",
       "      <th>tot_female</th>\n",
       "      <td>0.999906</td>\n",
       "      <td>0.999612</td>\n",
       "      <td>1.000000</td>\n",
       "      <td>0.989580</td>\n",
       "      <td>0.801320</td>\n",
       "      <td>0.835294</td>\n",
       "      <td>0.470552</td>\n",
       "    </tr>\n",
       "    <tr>\n",
       "      <th>tot_wa_pop</th>\n",
       "      <td>0.990255</td>\n",
       "      <td>0.990757</td>\n",
       "      <td>0.989580</td>\n",
       "      <td>1.000000</td>\n",
       "      <td>0.733440</td>\n",
       "      <td>0.798099</td>\n",
       "      <td>0.439266</td>\n",
       "    </tr>\n",
       "    <tr>\n",
       "      <th>tot_ba_pop</th>\n",
       "      <td>0.796024</td>\n",
       "      <td>0.790400</td>\n",
       "      <td>0.801320</td>\n",
       "      <td>0.733440</td>\n",
       "      <td>1.000000</td>\n",
       "      <td>0.538702</td>\n",
       "      <td>0.244864</td>\n",
       "    </tr>\n",
       "    <tr>\n",
       "      <th>tot_aa_pop</th>\n",
       "      <td>0.838057</td>\n",
       "      <td>0.840743</td>\n",
       "      <td>0.835294</td>\n",
       "      <td>0.798099</td>\n",
       "      <td>0.538702</td>\n",
       "      <td>1.000000</td>\n",
       "      <td>0.597579</td>\n",
       "    </tr>\n",
       "    <tr>\n",
       "      <th>tot_na_pop</th>\n",
       "      <td>0.474010</td>\n",
       "      <td>0.477487</td>\n",
       "      <td>0.470552</td>\n",
       "      <td>0.439266</td>\n",
       "      <td>0.244864</td>\n",
       "      <td>0.597579</td>\n",
       "      <td>1.000000</td>\n",
       "    </tr>\n",
       "  </tbody>\n",
       "</table>\n",
       "</div>"
      ],
      "text/plain": [
       "             tot_pop  tot_male  tot_female  tot_wa_pop  tot_ba_pop  \\\n",
       "tot_pop     1.000000  0.999900    0.999906    0.990255    0.796024   \n",
       "tot_male    0.999900  1.000000    0.999612    0.990757    0.790400   \n",
       "tot_female  0.999906  0.999612    1.000000    0.989580    0.801320   \n",
       "tot_wa_pop  0.990255  0.990757    0.989580    1.000000    0.733440   \n",
       "tot_ba_pop  0.796024  0.790400    0.801320    0.733440    1.000000   \n",
       "tot_aa_pop  0.838057  0.840743    0.835294    0.798099    0.538702   \n",
       "tot_na_pop  0.474010  0.477487    0.470552    0.439266    0.244864   \n",
       "\n",
       "            tot_aa_pop  tot_na_pop  \n",
       "tot_pop       0.838057    0.474010  \n",
       "tot_male      0.840743    0.477487  \n",
       "tot_female    0.835294    0.470552  \n",
       "tot_wa_pop    0.798099    0.439266  \n",
       "tot_ba_pop    0.538702    0.244864  \n",
       "tot_aa_pop    1.000000    0.597579  \n",
       "tot_na_pop    0.597579    1.000000  "
      ]
     },
     "execution_count": 20,
     "metadata": {},
     "output_type": "execute_result"
    }
   ],
   "source": [
    "# correlation of populations\n",
    "df[[col for col in df if col.startswith(\"tot_\")]].corr()"
   ]
  },
  {
   "cell_type": "code",
   "execution_count": 21,
   "id": "234ce700",
   "metadata": {},
   "outputs": [],
   "source": [
    "# dropping population columns\n",
    "df.drop(columns=[col for col in df if col.startswith(\"tot_\")], inplace=True)\n"
   ]
  },
  {
   "cell_type": "code",
   "execution_count": 22,
   "id": "1de9d1d9",
   "metadata": {},
   "outputs": [],
   "source": [
    "# dropping voting and minority_group_total\n",
    "df.drop(columns=[col for col in df if col.endswith('votes') or col.startswith('minority')], inplace=True)\n"
   ]
  },
  {
   "cell_type": "code",
   "execution_count": 23,
   "id": "6957bad4",
   "metadata": {},
   "outputs": [
    {
     "name": "stdout",
     "output_type": "stream",
     "text": [
      "Fitting 5 folds for each of 80 candidates, totalling 400 fits\n"
     ]
    },
    {
     "data": {
      "text/plain": [
       "GridSearchCV(cv=5,\n",
       "             estimator=Pipeline(steps=[('ss', StandardScaler()),\n",
       "                                       ('knn', KNeighborsClassifier())]),\n",
       "             param_grid={'knn__n_neighbors': [1, 3, 5, 10, 50],\n",
       "                         'knn__p': [1, 2],\n",
       "                         'knn__weights': ['uniform', 'distance'],\n",
       "                         'ss__with_mean': [True, False],\n",
       "                         'ss__with_std': [True, False]},\n",
       "             verbose=1)"
      ]
     },
     "execution_count": 23,
     "metadata": {},
     "output_type": "execute_result"
    }
   ],
   "source": [
    "# Sets up X variable for columns that have not been dropped\n",
    "X = df[[col for col in df if col not in \"deaths_per_hun_thou\"]]\n",
    "\n",
    "# Sets up target variable\n",
    "y = df['deaths_per_hun_thou']\n",
    "\n",
    "# sets up train test split\n",
    "X_train, X_test, y_train, y_test = train_test_split(X,\n",
    "                                                    y,\n",
    "                                                    test_size = 0.20,\n",
    "                                                    random_state = 73,\n",
    "                                                    stratify = y) \n",
    "\n",
    "\n",
    "\n",
    "\n",
    "# Instantiate our GridSearchCV object.\n",
    "pipe_knn_gridsearch_2 = GridSearchCV(pipe_knn, \n",
    "                                 pipe_knn_params,\n",
    "                                 cv=5,\n",
    "                                 verbose=1)\n",
    "\n",
    "# Fitting gridsearch\n",
    "pipe_knn_gridsearch_2.fit(X_train, y_train)"
   ]
  },
  {
   "cell_type": "code",
   "execution_count": 24,
   "id": "633cc20d",
   "metadata": {},
   "outputs": [
    {
     "data": {
      "text/plain": [
       "0.7904564315352697"
      ]
     },
     "execution_count": 24,
     "metadata": {},
     "output_type": "execute_result"
    }
   ],
   "source": [
    "pipe_knn_gridsearch_2.score(X_test, y_test)"
   ]
  },
  {
   "cell_type": "code",
   "execution_count": 25,
   "id": "a91fd6fa",
   "metadata": {},
   "outputs": [
    {
     "data": {
      "text/plain": [
       "{'knn__n_neighbors': 50,\n",
       " 'knn__p': 1,\n",
       " 'knn__weights': 'distance',\n",
       " 'ss__with_mean': True,\n",
       " 'ss__with_std': True}"
      ]
     },
     "execution_count": 25,
     "metadata": {},
     "output_type": "execute_result"
    }
   ],
   "source": [
    "pipe_knn_gridsearch_2.best_params_"
   ]
  },
  {
   "cell_type": "markdown",
   "id": "0df8b76b",
   "metadata": {},
   "source": [
    "### Conclusion and Recommendations"
   ]
  },
  {
   "cell_type": "markdown",
   "id": "472821b5",
   "metadata": {},
   "source": [
    "Although the KNN model provided a score of .783 accuracy this problem seems to be best answered through standard EDA and inference. However in the future to further improve upon the model I would recommend gathering more recent data when available and looking specifically into the hospitals available in each county.(Staffing, building size, occupancy)"
   ]
  },
  {
   "cell_type": "code",
   "execution_count": 26,
   "id": "39f9657e",
   "metadata": {},
   "outputs": [
    {
     "data": {
      "text/plain": [
       "(2409, 34)"
      ]
     },
     "execution_count": 26,
     "metadata": {},
     "output_type": "execute_result"
    }
   ],
   "source": [
    "X.shape"
   ]
  }
 ],
 "metadata": {
  "kernelspec": {
   "display_name": "Python 3 (ipykernel)",
   "language": "python",
   "name": "python3"
  },
  "language_info": {
   "codemirror_mode": {
    "name": "ipython",
    "version": 3
   },
   "file_extension": ".py",
   "mimetype": "text/x-python",
   "name": "python",
   "nbconvert_exporter": "python",
   "pygments_lexer": "ipython3",
   "version": "3.8.8"
  }
 },
 "nbformat": 4,
 "nbformat_minor": 5
}
