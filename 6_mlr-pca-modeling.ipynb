{
 "cells": [
  {
   "cell_type": "markdown",
   "metadata": {},
   "source": [
    "## Model Selection: Multiple Linear Regression and Principal Component Analysis\n",
    "\n",
    "*By Juan Vega*"
   ]
  },
  {
   "cell_type": "markdown",
   "metadata": {},
   "source": [
    "The goal of this notebook is to fit a multiple linear regression notebook and evaluate its ability to predict the death rate per capita per 100,000 population. Principal Component Analysis will be used to understand which features have the most explanatory power and perform dimensionality reduction."
   ]
  },
  {
   "cell_type": "markdown",
   "metadata": {},
   "source": [
    "### Import libraries"
   ]
  },
  {
   "cell_type": "code",
   "execution_count": 1,
   "metadata": {},
   "outputs": [],
   "source": [
    "import pandas as pd\n",
    "import numpy as np\n",
    "import matplotlib.pyplot as plt\n",
    "import seaborn as sns\n",
    "\n",
    "from sklearn.linear_model import LinearRegression\n",
    "from sklearn.model_selection import cross_val_score, KFold, train_test_split\n",
    "from sklearn.experimental import enable_iterative_imputer\n",
    "from sklearn.impute import SimpleImputer, KNNImputer, IterativeImputer\n",
    "from sklearn.pipeline import make_pipeline\n",
    "from sklearn.preprocessing import StandardScaler\n",
    "from sklearn.decomposition import PCA\n",
    "from sklearn.metrics import r2_score\n",
    "\n",
    "import warnings\n",
    "warnings.filterwarnings('ignore')"
   ]
  },
  {
   "cell_type": "markdown",
   "metadata": {},
   "source": [
    "### Ingest the data source of COVID-19 death rate and additional features from the CDC and other data sources"
   ]
  },
  {
   "cell_type": "code",
   "execution_count": 2,
   "metadata": {},
   "outputs": [
    {
     "data": {
      "text/html": [
       "<div>\n",
       "<style scoped>\n",
       "    .dataframe tbody tr th:only-of-type {\n",
       "        vertical-align: middle;\n",
       "    }\n",
       "\n",
       "    .dataframe tbody tr th {\n",
       "        vertical-align: top;\n",
       "    }\n",
       "\n",
       "    .dataframe thead th {\n",
       "        text-align: right;\n",
       "    }\n",
       "</style>\n",
       "<table border=\"1\" class=\"dataframe\">\n",
       "  <thead>\n",
       "    <tr style=\"text-align: right;\">\n",
       "      <th></th>\n",
       "      <th>county</th>\n",
       "      <th>county_fips_code</th>\n",
       "      <th>cases</th>\n",
       "      <th>deaths</th>\n",
       "      <th>stname</th>\n",
       "      <th>ctyname</th>\n",
       "      <th>tot_pop</th>\n",
       "      <th>deaths_per_hun_thou</th>\n",
       "      <th>cnty_name</th>\n",
       "      <th>unemployment_rate</th>\n",
       "      <th>...</th>\n",
       "      <th>SVI__B</th>\n",
       "      <th>SVI__C</th>\n",
       "      <th>SVI__D</th>\n",
       "      <th>tot_male</th>\n",
       "      <th>tot_female</th>\n",
       "      <th>tot_wa_pop</th>\n",
       "      <th>tot_ba_pop</th>\n",
       "      <th>tot_aa_pop</th>\n",
       "      <th>tot_na_pop</th>\n",
       "      <th>minority_group_total</th>\n",
       "    </tr>\n",
       "  </thead>\n",
       "  <tbody>\n",
       "    <tr>\n",
       "      <th>0</th>\n",
       "      <td>Autauga</td>\n",
       "      <td>1001</td>\n",
       "      <td>12738</td>\n",
       "      <td>163.0</td>\n",
       "      <td>Alabama</td>\n",
       "      <td>Autauga County</td>\n",
       "      <td>55869.0</td>\n",
       "      <td>291.753924</td>\n",
       "      <td>Autauga County, AL</td>\n",
       "      <td>4.9</td>\n",
       "      <td>...</td>\n",
       "      <td>1.0</td>\n",
       "      <td>0.0</td>\n",
       "      <td>0.0</td>\n",
       "      <td>27092</td>\n",
       "      <td>28777</td>\n",
       "      <td>42607</td>\n",
       "      <td>11237</td>\n",
       "      <td>656</td>\n",
       "      <td>58</td>\n",
       "      <td>11237</td>\n",
       "    </tr>\n",
       "    <tr>\n",
       "      <th>1</th>\n",
       "      <td>Baldwin</td>\n",
       "      <td>1003</td>\n",
       "      <td>47143</td>\n",
       "      <td>605.0</td>\n",
       "      <td>Alabama</td>\n",
       "      <td>Baldwin County</td>\n",
       "      <td>223234.0</td>\n",
       "      <td>271.016064</td>\n",
       "      <td>Baldwin County, AL</td>\n",
       "      <td>5.6</td>\n",
       "      <td>...</td>\n",
       "      <td>0.0</td>\n",
       "      <td>0.0</td>\n",
       "      <td>0.0</td>\n",
       "      <td>108247</td>\n",
       "      <td>114987</td>\n",
       "      <td>195198</td>\n",
       "      <td>19593</td>\n",
       "      <td>2380</td>\n",
       "      <td>154</td>\n",
       "      <td>19593</td>\n",
       "    </tr>\n",
       "    <tr>\n",
       "      <th>2</th>\n",
       "      <td>Barbour</td>\n",
       "      <td>1005</td>\n",
       "      <td>4741</td>\n",
       "      <td>83.0</td>\n",
       "      <td>Alabama</td>\n",
       "      <td>Barbour County</td>\n",
       "      <td>24686.0</td>\n",
       "      <td>336.222960</td>\n",
       "      <td>Barbour County, AL</td>\n",
       "      <td>7.0</td>\n",
       "      <td>...</td>\n",
       "      <td>0.0</td>\n",
       "      <td>0.0</td>\n",
       "      <td>1.0</td>\n",
       "      <td>13064</td>\n",
       "      <td>11622</td>\n",
       "      <td>12134</td>\n",
       "      <td>11906</td>\n",
       "      <td>116</td>\n",
       "      <td>52</td>\n",
       "      <td>11906</td>\n",
       "    </tr>\n",
       "    <tr>\n",
       "      <th>3</th>\n",
       "      <td>Bibb</td>\n",
       "      <td>1007</td>\n",
       "      <td>5385</td>\n",
       "      <td>95.0</td>\n",
       "      <td>Alabama</td>\n",
       "      <td>Bibb County</td>\n",
       "      <td>22394.0</td>\n",
       "      <td>424.220773</td>\n",
       "      <td>Bibb County, AL</td>\n",
       "      <td>6.6</td>\n",
       "      <td>...</td>\n",
       "      <td>0.0</td>\n",
       "      <td>1.0</td>\n",
       "      <td>0.0</td>\n",
       "      <td>11929</td>\n",
       "      <td>10465</td>\n",
       "      <td>17191</td>\n",
       "      <td>4763</td>\n",
       "      <td>48</td>\n",
       "      <td>26</td>\n",
       "      <td>4763</td>\n",
       "    </tr>\n",
       "    <tr>\n",
       "      <th>4</th>\n",
       "      <td>Blount</td>\n",
       "      <td>1009</td>\n",
       "      <td>12648</td>\n",
       "      <td>203.0</td>\n",
       "      <td>Alabama</td>\n",
       "      <td>Blount County</td>\n",
       "      <td>57826.0</td>\n",
       "      <td>351.053159</td>\n",
       "      <td>Blount County, AL</td>\n",
       "      <td>4.1</td>\n",
       "      <td>...</td>\n",
       "      <td>1.0</td>\n",
       "      <td>0.0</td>\n",
       "      <td>0.0</td>\n",
       "      <td>28472</td>\n",
       "      <td>29354</td>\n",
       "      <td>55412</td>\n",
       "      <td>978</td>\n",
       "      <td>185</td>\n",
       "      <td>67</td>\n",
       "      <td>978</td>\n",
       "    </tr>\n",
       "  </tbody>\n",
       "</table>\n",
       "<p>5 rows × 54 columns</p>\n",
       "</div>"
      ],
      "text/plain": [
       "    county  county_fips_code  cases  deaths   stname         ctyname  \\\n",
       "0  Autauga              1001  12738   163.0  Alabama  Autauga County   \n",
       "1  Baldwin              1003  47143   605.0  Alabama  Baldwin County   \n",
       "2  Barbour              1005   4741    83.0  Alabama  Barbour County   \n",
       "3     Bibb              1007   5385    95.0  Alabama     Bibb County   \n",
       "4   Blount              1009  12648   203.0  Alabama   Blount County   \n",
       "\n",
       "    tot_pop  deaths_per_hun_thou           cnty_name  unemployment_rate  ...  \\\n",
       "0   55869.0           291.753924  Autauga County, AL                4.9  ...   \n",
       "1  223234.0           271.016064  Baldwin County, AL                5.6  ...   \n",
       "2   24686.0           336.222960  Barbour County, AL                7.0  ...   \n",
       "3   22394.0           424.220773     Bibb County, AL                6.6  ...   \n",
       "4   57826.0           351.053159   Blount County, AL                4.1  ...   \n",
       "\n",
       "   SVI__B  SVI__C  SVI__D  tot_male  tot_female  tot_wa_pop tot_ba_pop  \\\n",
       "0     1.0     0.0     0.0     27092       28777       42607      11237   \n",
       "1     0.0     0.0     0.0    108247      114987      195198      19593   \n",
       "2     0.0     0.0     1.0     13064       11622       12134      11906   \n",
       "3     0.0     1.0     0.0     11929       10465       17191       4763   \n",
       "4     1.0     0.0     0.0     28472       29354       55412        978   \n",
       "\n",
       "   tot_aa_pop  tot_na_pop  minority_group_total  \n",
       "0         656          58                 11237  \n",
       "1        2380         154                 19593  \n",
       "2         116          52                 11906  \n",
       "3          48          26                  4763  \n",
       "4         185          67                   978  \n",
       "\n",
       "[5 rows x 54 columns]"
      ]
     },
     "execution_count": 2,
     "metadata": {},
     "output_type": "execute_result"
    }
   ],
   "source": [
    "covid_df = pd.read_csv('./data/merged_dataset.csv')\n",
    "covid_df.head()"
   ]
  },
  {
   "cell_type": "code",
   "execution_count": 3,
   "metadata": {
    "scrolled": true
   },
   "outputs": [
    {
     "data": {
      "text/plain": [
       "(3133, 54)"
      ]
     },
     "execution_count": 3,
     "metadata": {},
     "output_type": "execute_result"
    }
   ],
   "source": [
    "covid_df.shape"
   ]
  },
  {
   "cell_type": "markdown",
   "metadata": {},
   "source": [
    "### Rename certain features"
   ]
  },
  {
   "cell_type": "code",
   "execution_count": 4,
   "metadata": {},
   "outputs": [],
   "source": [
    "covid_df.rename(columns={'total_staffed_adult_icu_beds_7_day_sum':'tot_staff_adlt_icu_beds',\n",
    "                        'total_icu_beds_7_day_sum':'total_icu_beds',\n",
    "                        'inpatient_beds_7_day_sum':'inpatient_beds',\n",
    "                        'total_adult_patients_hospitalized_confirmed_covid_7_day_sum':'tot_adlt_pat_hosp_covid',\n",
    "                        'inpatient_beds_used_7_day_sum':'inpatient_beds_used',\n",
    "                        'total_beds_7_day_sum':'total_beds',\n",
    "                        'icu_beds_used_7_day_sum':'icu_beds_used'},inplace=True)"
   ]
  },
  {
   "cell_type": "code",
   "execution_count": 5,
   "metadata": {},
   "outputs": [],
   "source": [
    "features = [col for col in covid_df.columns if covid_df[col].dtypes != 'O']"
   ]
  },
  {
   "cell_type": "code",
   "execution_count": 6,
   "metadata": {},
   "outputs": [],
   "source": [
    "for col in ['county_fips_code','deaths','deaths_per_hun_thou']:\n",
    "    features.remove(col)"
   ]
  },
  {
   "cell_type": "markdown",
   "metadata": {},
   "source": [
    "#### Impute missing data using a median imputer for every feature with missing data"
   ]
  },
  {
   "cell_type": "code",
   "execution_count": 7,
   "metadata": {},
   "outputs": [
    {
     "data": {
      "text/plain": [
       "inpatient_beds_used_covid_7_day_sum                     703\n",
       "staffed_icu_adult_patients_confirmed_covid_7_day_sum    703\n",
       "tot_staff_adlt_icu_beds                                 703\n",
       "total_icu_beds                                          703\n",
       "inpatient_beds                                          703\n",
       "tot_adlt_pat_hosp_covid                                 703\n",
       "inpatient_beds_used                                     703\n",
       "total_beds                                              703\n",
       "icu_beds_used                                           703\n",
       "total_votes                                              26\n",
       "biden_votes                                              25\n",
       "trump_votes                                              25\n",
       "med_per_test_results_positive                            18\n",
       "county_vac_pct                                            1\n",
       "SVI__A                                                    1\n",
       "SVI__B                                                    1\n",
       "SVI__C                                                    1\n",
       "cnty_name                                                 1\n",
       "unemployment_rate                                         1\n",
       "ICUBedsOccAnyPat__N_ICUBeds_Est                           1\n",
       "InBedsOccCOVID__Numbeds_Est                               1\n",
       "InBedsOccAnyPat__Numbeds_Est                              1\n",
       "state                                                     1\n",
       "SVI__D                                                    1\n",
       "dtype: int64"
      ]
     },
     "execution_count": 7,
     "metadata": {},
     "output_type": "execute_result"
    }
   ],
   "source": [
    "covid_df.isnull().sum()[covid_df.isnull().sum()>0].sort_values(ascending=False)"
   ]
  },
  {
   "cell_type": "code",
   "execution_count": 8,
   "metadata": {},
   "outputs": [],
   "source": [
    "df = covid_df[features+['deaths_per_hun_thou']]"
   ]
  },
  {
   "cell_type": "code",
   "execution_count": 9,
   "metadata": {},
   "outputs": [],
   "source": [
    "X = pd.DataFrame(SimpleImputer(strategy='median').fit_transform(df.drop(columns='deaths_per_hun_thou')),\n",
    "                  columns=df.drop(columns='deaths_per_hun_thou').columns)\n",
    "y = df['deaths_per_hun_thou']"
   ]
  },
  {
   "cell_type": "markdown",
   "metadata": {},
   "source": [
    "After imputing all missing data with the median of each feature, there are no more missing values in the data set."
   ]
  },
  {
   "cell_type": "code",
   "execution_count": 10,
   "metadata": {},
   "outputs": [
    {
     "data": {
      "text/plain": [
       "(0, 0)"
      ]
     },
     "execution_count": 10,
     "metadata": {},
     "output_type": "execute_result"
    }
   ],
   "source": [
    "X.isnull().sum().sum(), y.isnull().sum().sum()"
   ]
  },
  {
   "cell_type": "code",
   "execution_count": 11,
   "metadata": {},
   "outputs": [],
   "source": [
    "X_train, X_test, y_train, y_test = train_test_split(X,y,test_size=0.25,random_state=43)"
   ]
  },
  {
   "cell_type": "markdown",
   "metadata": {},
   "source": [
    "Standardize the features for PCA and multiple linear regression."
   ]
  },
  {
   "cell_type": "code",
   "execution_count": 12,
   "metadata": {},
   "outputs": [],
   "source": [
    "ss = StandardScaler()\n",
    "Xs_train = pd.DataFrame(ss.fit_transform(X_train),columns=X_train.columns)\n",
    "Xs_test = pd.DataFrame(ss.transform(X_test),columns=X_test.columns)"
   ]
  },
  {
   "cell_type": "markdown",
   "metadata": {},
   "source": [
    "Instantiate a linear regression model."
   ]
  },
  {
   "cell_type": "code",
   "execution_count": 13,
   "metadata": {},
   "outputs": [],
   "source": [
    "lr = LinearRegression()"
   ]
  },
  {
   "cell_type": "code",
   "execution_count": 14,
   "metadata": {},
   "outputs": [
    {
     "data": {
      "text/plain": [
       "LinearRegression()"
      ]
     },
     "execution_count": 14,
     "metadata": {},
     "output_type": "execute_result"
    }
   ],
   "source": [
    "lr.fit(Xs_train,y_train)"
   ]
  },
  {
   "cell_type": "code",
   "execution_count": 15,
   "metadata": {},
   "outputs": [],
   "source": [
    "y_preds = lr.predict(Xs_test)"
   ]
  },
  {
   "cell_type": "markdown",
   "metadata": {},
   "source": [
    "Using these features does not produce an R-squared score that is appropriate to model on and compare the performance of these model against the null model."
   ]
  },
  {
   "cell_type": "code",
   "execution_count": 16,
   "metadata": {},
   "outputs": [],
   "source": [
    "y_train_null = [np.mean(y_train)] * len(y_train)\n",
    "y_test_null = [np.mean(y_train)] * len(y_test)"
   ]
  },
  {
   "cell_type": "markdown",
   "metadata": {},
   "source": [
    "Although the model fit performs better than the null model based on the r-squared metric, the performance of this model is very poor."
   ]
  },
  {
   "cell_type": "code",
   "execution_count": 17,
   "metadata": {},
   "outputs": [
    {
     "data": {
      "text/plain": [
       "-0.9161211468460633"
      ]
     },
     "execution_count": 17,
     "metadata": {},
     "output_type": "execute_result"
    }
   ],
   "source": [
    "r2_score(y_test,y_preds)"
   ]
  },
  {
   "cell_type": "code",
   "execution_count": 18,
   "metadata": {},
   "outputs": [
    {
     "data": {
      "text/plain": [
       "-2.546613484336974e+30"
      ]
     },
     "execution_count": 18,
     "metadata": {},
     "output_type": "execute_result"
    }
   ],
   "source": [
    "r2_score(y_test_null,y_preds)"
   ]
  },
  {
   "cell_type": "code",
   "execution_count": 19,
   "metadata": {},
   "outputs": [
    {
     "data": {
      "image/png": "[encoded data removed]",
      "text/plain": [
       "<Figure size 360x720 with 2 Axes>"
      ]
     },
     "metadata": {
      "needs_background": "light"
     },
     "output_type": "display_data"
    }
   ],
   "source": [
    "plt.figure(figsize=(5,10))\n",
    "plt.title('Correlation of features with death rate')\n",
    "sns.heatmap(df.corr()[['deaths_per_hun_thou']].sort_values(by='deaths_per_hun_thou',ascending=False),\n",
    "                vmin=-1,\n",
    "                vmax=1,\n",
    "                cmap='Blues',\n",
    "                annot=True);"
   ]
  },
  {
   "cell_type": "markdown",
   "metadata": {},
   "source": [
    "Attempt fitting a better model using only the featues that are mostly correlated with the death rate based on the correlation heatmap above."
   ]
  },
  {
   "cell_type": "code",
   "execution_count": 20,
   "metadata": {},
   "outputs": [],
   "source": [
    "Xs_train = Xs_train[['cases_per_10k','SVI__D','transmission_level_high','med_cases_per_100k_change',\n",
    "'mask_sometimes','mask_never','med_per_test_results_positive','good_masking_practices','tot_pop']]\n",
    "\n",
    "Xs_test = Xs_test[['cases_per_10k','SVI__D','transmission_level_high','med_cases_per_100k_change',\n",
    "'mask_sometimes','mask_never','med_per_test_results_positive','good_masking_practices','tot_pop']]"
   ]
  },
  {
   "cell_type": "code",
   "execution_count": 21,
   "metadata": {},
   "outputs": [
    {
     "data": {
      "text/plain": [
       "LinearRegression()"
      ]
     },
     "execution_count": 21,
     "metadata": {},
     "output_type": "execute_result"
    }
   ],
   "source": [
    "lr.fit(Xs_train,y_train)"
   ]
  },
  {
   "cell_type": "code",
   "execution_count": 22,
   "metadata": {},
   "outputs": [],
   "source": [
    "y_preds = lr.predict(Xs_test)"
   ]
  },
  {
   "cell_type": "code",
   "execution_count": 23,
   "metadata": {},
   "outputs": [
    {
     "data": {
      "text/plain": [
       "0.23897262377278017"
      ]
     },
     "execution_count": 23,
     "metadata": {},
     "output_type": "execute_result"
    }
   ],
   "source": [
    "r2_score(y_test,y_preds)"
   ]
  },
  {
   "cell_type": "markdown",
   "metadata": {},
   "source": [
    "This is an improvement from the current model's performance, demonstrating that a lower number of features may return better results. However, the performance of this model is not adequate at the moment, which is the reason why a collective decision made to fit a classification model for whether the median number of deaths is above the 75th percentile across all U.S. counties."
   ]
  },
  {
   "cell_type": "markdown",
   "metadata": {},
   "source": [
    "As an exercise, apply principal component analysis to identify which features explain most of the variation in the data in this model."
   ]
  },
  {
   "cell_type": "code",
   "execution_count": 24,
   "metadata": {},
   "outputs": [],
   "source": [
    "X = X[['cases_per_10k','SVI__D','transmission_level_high','med_cases_per_100k_change',\n",
    "'mask_sometimes','mask_never','med_per_test_results_positive','good_masking_practices','tot_pop']]"
   ]
  },
  {
   "cell_type": "code",
   "execution_count": 25,
   "metadata": {},
   "outputs": [],
   "source": [
    "Xs = ss.fit_transform(X)"
   ]
  },
  {
   "cell_type": "code",
   "execution_count": 26,
   "metadata": {},
   "outputs": [],
   "source": [
    "pca = PCA().fit(Xs)"
   ]
  },
  {
   "cell_type": "markdown",
   "metadata": {},
   "source": [
    "It appears that about 82% of the variation in the data can be explained by the first principal components, which are described below."
   ]
  },
  {
   "cell_type": "code",
   "execution_count": 27,
   "metadata": {},
   "outputs": [
    {
     "data": {
      "text/plain": [
       "0.8221167236745869"
      ]
     },
     "execution_count": 27,
     "metadata": {},
     "output_type": "execute_result"
    }
   ],
   "source": [
    "sum(pca.explained_variance_ratio_[:5])"
   ]
  },
  {
   "cell_type": "code",
   "execution_count": 28,
   "metadata": {},
   "outputs": [
    {
     "data": {
      "text/plain": [
       "array([0.29710798, 0.20332594, 0.12393948, 0.1042198 , 0.09352353,\n",
       "       0.07459127, 0.06017558, 0.03431431, 0.00880211])"
      ]
     },
     "execution_count": 28,
     "metadata": {},
     "output_type": "execute_result"
    }
   ],
   "source": [
    "pca.explained_variance_ratio_"
   ]
  },
  {
   "cell_type": "markdown",
   "metadata": {},
   "source": [
    "* The first principal component explains around 30% of the variation in the data and appears to describe counties where a higher number of cases per capita is associated with a lower death rate, where a higher level of social vulnerability is associated with a lower death rates, and where higher transmissibility is assoficated with lower death rates, which are counterintuitive results\n",
    "* The second principal compoennt appears to describe cases where higher number of COVID cases relate to higher death rates, where higher social vulnerability is associated with higher death rates, and higher transmission is associated with higher death rates. This principal component accounts for 20% of the variation in the data."
   ]
  },
  {
   "cell_type": "code",
   "execution_count": 29,
   "metadata": {},
   "outputs": [
    {
     "name": "stdout",
     "output_type": "stream",
     "text": [
      "cases_per_10k -0.3089480936564658\n",
      "SVI__D -0.09197189404802007\n",
      "transmission_level_high -0.3180764740841183\n",
      "med_cases_per_100k_change -0.2637118955151537\n",
      "mask_sometimes -0.4324201758744859\n",
      "mask_never -0.4100511630933503\n",
      "med_per_test_results_positive -0.25535750236559124\n",
      "good_masking_practices 0.5116536801246182\n",
      "tot_pop 0.20796521745783844\n"
     ]
    }
   ],
   "source": [
    "pca1_evec = pca.components_[0]\n",
    "\n",
    "for weight, feature in zip(pca1_evec, X.columns):\n",
    "    print(feature, weight)\n",
    "    \n",
    "# This code is inspired from Sophie's lesson on PCA:\n",
    "# https://git.generalassemb.ly/dsi-andromeda/pca/blob/master/starter-code-Sophie.ipynb"
   ]
  },
  {
   "cell_type": "code",
   "execution_count": 30,
   "metadata": {},
   "outputs": [
    {
     "name": "stdout",
     "output_type": "stream",
     "text": [
      "cases_per_10k 0.3795728950110919\n",
      "SVI__D 0.33945688107673044\n",
      "transmission_level_high 0.4971093726308504\n",
      "med_cases_per_100k_change 0.38180053008653886\n",
      "mask_sometimes -0.23748897542207217\n",
      "mask_never -0.3152618903427621\n",
      "med_per_test_results_positive 0.17501526691760041\n",
      "good_masking_practices 0.3495061970528911\n",
      "tot_pop 0.1980607779158388\n"
     ]
    }
   ],
   "source": [
    "pca1_evec = pca.components_[1]\n",
    "\n",
    "for weight, feature in zip(pca1_evec, X.columns):\n",
    "    print(feature, weight)"
   ]
  },
  {
   "cell_type": "code",
   "execution_count": 31,
   "metadata": {},
   "outputs": [],
   "source": [
    "covid_df_pca= pd.DataFrame(pca.transform(Xs),columns=['pr_comp_0','pr_comp_1','pr_comp_2','pr_comp_3','pr_comp_4',\n",
    "                                                      'pr_comp_5','pr_comp_6','pr_comp_7','pr_comp_8'])"
   ]
  },
  {
   "cell_type": "code",
   "execution_count": 32,
   "metadata": {},
   "outputs": [
    {
     "data": {
      "text/plain": [
       "0.1637549960065414"
      ]
     },
     "execution_count": 32,
     "metadata": {},
     "output_type": "execute_result"
    }
   ],
   "source": [
    "cross_val_score(LinearRegression(),\n",
    "                covid_df_pca,\n",
    "                covid_df['deaths_per_hun_thou'],\n",
    "                cv=5).mean()"
   ]
  },
  {
   "cell_type": "code",
   "execution_count": 33,
   "metadata": {},
   "outputs": [
    {
     "data": {
      "text/plain": [
       "0.16452918071970715"
      ]
     },
     "execution_count": 33,
     "metadata": {},
     "output_type": "execute_result"
    }
   ],
   "source": [
    "cross_val_score(LinearRegression(),\n",
    "                covid_df_pca.drop(columns=['pr_comp_5','pr_comp_6','pr_comp_7','pr_comp_8']),\n",
    "                covid_df['deaths_per_hun_thou'],\n",
    "                cv=5).mean()"
   ]
  },
  {
   "cell_type": "markdown",
   "metadata": {},
   "source": [
    "Using the first five principal components from the reduced data set returns a cross validated r-square score of 16%, which is a lower explanatory model compared to a previous linear regression model without PCA.\n",
    "\n",
    "Because none of these performances are adequate, it is recommended that other predictive tasks such as classifying counties as having a death rate that is above the 75th percentile are applied instead of multiple linear regression."
   ]
  }
 ],
 "metadata": {
  "kernelspec": {
   "display_name": "Python 3 (ipykernel)",
   "language": "python",
   "name": "python3"
  },
  "language_info": {
   "codemirror_mode": {
    "name": "ipython",
    "version": 3
   },
   "file_extension": ".py",
   "mimetype": "text/x-python",
   "name": "python",
   "nbconvert_exporter": "python",
   "pygments_lexer": "ipython3",
   "version": "3.8.8"
  }
 },
 "nbformat": 4,
 "nbformat_minor": 4
}
