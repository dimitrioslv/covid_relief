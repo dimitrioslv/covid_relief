{
 "cells": [
  {
   "cell_type": "code",
   "execution_count": 1,
   "id": "b7e0a836",
   "metadata": {
    "ExecuteTime": {
     "end_time": "2022-01-29T01:21:10.977200Z",
     "start_time": "2022-01-29T01:21:10.957253Z"
    }
   },
   "outputs": [],
   "source": [
    "import warnings\n",
    "import pandas as pd\n",
    "import numpy as np\n",
    "import matplotlib.pyplot as plt\n",
    "\n",
    "from sklearn.linear_model import LogisticRegression\n",
    "from sklearn.preprocessing import StandardScaler\n",
    "from sklearn.model_selection import train_test_split, cross_val_score, KFold, GridSearchCV\n",
    "from sklearn.decomposition import PCA\n",
    "from sklearn.pipeline import Pipeline\n",
    "from sklearn.experimental import enable_iterative_imputer\n",
    "from sklearn.impute import SimpleImputer, KNNImputer, IterativeImputer\n",
    "from sklearn.compose import ColumnTransformer\n",
    "\n",
    "warnings.filterwarnings('ignore')"
   ]
  },
  {
   "cell_type": "markdown",
   "id": "420cde59",
   "metadata": {},
   "source": [
    "#### Reading in the merged data"
   ]
  },
  {
   "cell_type": "code",
   "execution_count": 2,
   "id": "e9e079d7",
   "metadata": {
    "ExecuteTime": {
     "end_time": "2022-01-29T01:21:11.023077Z",
     "start_time": "2022-01-29T01:21:10.978198Z"
    }
   },
   "outputs": [],
   "source": [
    "df = pd.read_csv('./data/merged_dataset.csv')"
   ]
  },
  {
   "cell_type": "code",
   "execution_count": 3,
   "id": "4580f465",
   "metadata": {
    "ExecuteTime": {
     "end_time": "2022-01-29T01:21:11.053994Z",
     "start_time": "2022-01-29T01:21:11.025072Z"
    }
   },
   "outputs": [
    {
     "data": {
      "text/html": [
       "<div>\n",
       "<style scoped>\n",
       "    .dataframe tbody tr th:only-of-type {\n",
       "        vertical-align: middle;\n",
       "    }\n",
       "\n",
       "    .dataframe tbody tr th {\n",
       "        vertical-align: top;\n",
       "    }\n",
       "\n",
       "    .dataframe thead th {\n",
       "        text-align: right;\n",
       "    }\n",
       "</style>\n",
       "<table border=\"1\" class=\"dataframe\">\n",
       "  <thead>\n",
       "    <tr style=\"text-align: right;\">\n",
       "      <th></th>\n",
       "      <th>county</th>\n",
       "      <th>county_fips_code</th>\n",
       "      <th>cases</th>\n",
       "      <th>deaths</th>\n",
       "      <th>stname</th>\n",
       "      <th>ctyname</th>\n",
       "      <th>tot_pop</th>\n",
       "      <th>deaths_per_hun_thou</th>\n",
       "      <th>cnty_name</th>\n",
       "      <th>unemployment_rate</th>\n",
       "      <th>...</th>\n",
       "      <th>SVI__B</th>\n",
       "      <th>SVI__C</th>\n",
       "      <th>SVI__D</th>\n",
       "      <th>tot_male</th>\n",
       "      <th>tot_female</th>\n",
       "      <th>tot_wa_pop</th>\n",
       "      <th>tot_ba_pop</th>\n",
       "      <th>tot_aa_pop</th>\n",
       "      <th>tot_na_pop</th>\n",
       "      <th>minority_group_total</th>\n",
       "    </tr>\n",
       "  </thead>\n",
       "  <tbody>\n",
       "    <tr>\n",
       "      <th>0</th>\n",
       "      <td>Autauga</td>\n",
       "      <td>1001</td>\n",
       "      <td>12738</td>\n",
       "      <td>163.0</td>\n",
       "      <td>Alabama</td>\n",
       "      <td>Autauga County</td>\n",
       "      <td>55869.0</td>\n",
       "      <td>291.753924</td>\n",
       "      <td>Autauga County, AL</td>\n",
       "      <td>4.9</td>\n",
       "      <td>...</td>\n",
       "      <td>1.0</td>\n",
       "      <td>0.0</td>\n",
       "      <td>0.0</td>\n",
       "      <td>27092</td>\n",
       "      <td>28777</td>\n",
       "      <td>42607</td>\n",
       "      <td>11237</td>\n",
       "      <td>656</td>\n",
       "      <td>58</td>\n",
       "      <td>11237</td>\n",
       "    </tr>\n",
       "    <tr>\n",
       "      <th>1</th>\n",
       "      <td>Baldwin</td>\n",
       "      <td>1003</td>\n",
       "      <td>47143</td>\n",
       "      <td>605.0</td>\n",
       "      <td>Alabama</td>\n",
       "      <td>Baldwin County</td>\n",
       "      <td>223234.0</td>\n",
       "      <td>271.016064</td>\n",
       "      <td>Baldwin County, AL</td>\n",
       "      <td>5.6</td>\n",
       "      <td>...</td>\n",
       "      <td>0.0</td>\n",
       "      <td>0.0</td>\n",
       "      <td>0.0</td>\n",
       "      <td>108247</td>\n",
       "      <td>114987</td>\n",
       "      <td>195198</td>\n",
       "      <td>19593</td>\n",
       "      <td>2380</td>\n",
       "      <td>154</td>\n",
       "      <td>19593</td>\n",
       "    </tr>\n",
       "    <tr>\n",
       "      <th>2</th>\n",
       "      <td>Barbour</td>\n",
       "      <td>1005</td>\n",
       "      <td>4741</td>\n",
       "      <td>83.0</td>\n",
       "      <td>Alabama</td>\n",
       "      <td>Barbour County</td>\n",
       "      <td>24686.0</td>\n",
       "      <td>336.222960</td>\n",
       "      <td>Barbour County, AL</td>\n",
       "      <td>7.0</td>\n",
       "      <td>...</td>\n",
       "      <td>0.0</td>\n",
       "      <td>0.0</td>\n",
       "      <td>1.0</td>\n",
       "      <td>13064</td>\n",
       "      <td>11622</td>\n",
       "      <td>12134</td>\n",
       "      <td>11906</td>\n",
       "      <td>116</td>\n",
       "      <td>52</td>\n",
       "      <td>11906</td>\n",
       "    </tr>\n",
       "    <tr>\n",
       "      <th>3</th>\n",
       "      <td>Bibb</td>\n",
       "      <td>1007</td>\n",
       "      <td>5385</td>\n",
       "      <td>95.0</td>\n",
       "      <td>Alabama</td>\n",
       "      <td>Bibb County</td>\n",
       "      <td>22394.0</td>\n",
       "      <td>424.220773</td>\n",
       "      <td>Bibb County, AL</td>\n",
       "      <td>6.6</td>\n",
       "      <td>...</td>\n",
       "      <td>0.0</td>\n",
       "      <td>1.0</td>\n",
       "      <td>0.0</td>\n",
       "      <td>11929</td>\n",
       "      <td>10465</td>\n",
       "      <td>17191</td>\n",
       "      <td>4763</td>\n",
       "      <td>48</td>\n",
       "      <td>26</td>\n",
       "      <td>4763</td>\n",
       "    </tr>\n",
       "    <tr>\n",
       "      <th>4</th>\n",
       "      <td>Blount</td>\n",
       "      <td>1009</td>\n",
       "      <td>12648</td>\n",
       "      <td>203.0</td>\n",
       "      <td>Alabama</td>\n",
       "      <td>Blount County</td>\n",
       "      <td>57826.0</td>\n",
       "      <td>351.053159</td>\n",
       "      <td>Blount County, AL</td>\n",
       "      <td>4.1</td>\n",
       "      <td>...</td>\n",
       "      <td>1.0</td>\n",
       "      <td>0.0</td>\n",
       "      <td>0.0</td>\n",
       "      <td>28472</td>\n",
       "      <td>29354</td>\n",
       "      <td>55412</td>\n",
       "      <td>978</td>\n",
       "      <td>185</td>\n",
       "      <td>67</td>\n",
       "      <td>978</td>\n",
       "    </tr>\n",
       "  </tbody>\n",
       "</table>\n",
       "<p>5 rows × 54 columns</p>\n",
       "</div>"
      ],
      "text/plain": [
       "    county  county_fips_code  cases  deaths   stname         ctyname  \\\n",
       "0  Autauga              1001  12738   163.0  Alabama  Autauga County   \n",
       "1  Baldwin              1003  47143   605.0  Alabama  Baldwin County   \n",
       "2  Barbour              1005   4741    83.0  Alabama  Barbour County   \n",
       "3     Bibb              1007   5385    95.0  Alabama     Bibb County   \n",
       "4   Blount              1009  12648   203.0  Alabama   Blount County   \n",
       "\n",
       "    tot_pop  deaths_per_hun_thou           cnty_name  unemployment_rate  ...  \\\n",
       "0   55869.0           291.753924  Autauga County, AL                4.9  ...   \n",
       "1  223234.0           271.016064  Baldwin County, AL                5.6  ...   \n",
       "2   24686.0           336.222960  Barbour County, AL                7.0  ...   \n",
       "3   22394.0           424.220773     Bibb County, AL                6.6  ...   \n",
       "4   57826.0           351.053159   Blount County, AL                4.1  ...   \n",
       "\n",
       "   SVI__B  SVI__C  SVI__D  tot_male  tot_female  tot_wa_pop tot_ba_pop  \\\n",
       "0     1.0     0.0     0.0     27092       28777       42607      11237   \n",
       "1     0.0     0.0     0.0    108247      114987      195198      19593   \n",
       "2     0.0     0.0     1.0     13064       11622       12134      11906   \n",
       "3     0.0     1.0     0.0     11929       10465       17191       4763   \n",
       "4     1.0     0.0     0.0     28472       29354       55412        978   \n",
       "\n",
       "   tot_aa_pop  tot_na_pop  minority_group_total  \n",
       "0         656          58                 11237  \n",
       "1        2380         154                 19593  \n",
       "2         116          52                 11906  \n",
       "3          48          26                  4763  \n",
       "4         185          67                   978  \n",
       "\n",
       "[5 rows x 54 columns]"
      ]
     },
     "execution_count": 3,
     "metadata": {},
     "output_type": "execute_result"
    }
   ],
   "source": [
    "df.head()"
   ]
  },
  {
   "cell_type": "markdown",
   "id": "cd5a1865",
   "metadata": {},
   "source": [
    "#### Determining numerical features"
   ]
  },
  {
   "cell_type": "code",
   "execution_count": 4,
   "id": "60725112",
   "metadata": {
    "ExecuteTime": {
     "end_time": "2022-01-29T01:21:11.069951Z",
     "start_time": "2022-01-29T01:21:11.054992Z"
    }
   },
   "outputs": [
    {
     "name": "stdout",
     "output_type": "stream",
     "text": [
      "There are 49 numerical features: \n",
      "\n",
      "['county_fips_code', 'cases', 'deaths', 'tot_pop', 'deaths_per_hun_thou', 'unemployment_rate', 'med_cases_per_100k_change', 'med_per_test_results_positive', 'transmission_level_high', 'transmission_level_low', 'transmission_level_moderate', 'transmission_level_substantial', 'InBedsOccAnyPat__Numbeds_Est', 'InBedsOccCOVID__Numbeds_Est', 'ICUBedsOccAnyPat__N_ICUBeds_Est', 'cases_per_10k', 'high_transmission', 'mask_never', 'mask_rarely', 'mask_sometimes', 'mask_frequently', 'mask_always', 'good_masking_practices', 'biden_votes', 'trump_votes', 'total_votes', 'land_area_sqmi', 'population_density', 'total_beds_7_day_sum', 'inpatient_beds_used_7_day_sum', 'inpatient_beds_used_covid_7_day_sum', 'inpatient_beds_7_day_sum', 'total_icu_beds_7_day_sum', 'total_staffed_adult_icu_beds_7_day_sum', 'icu_beds_used_7_day_sum', 'staffed_icu_adult_patients_confirmed_covid_7_day_sum', 'total_adult_patients_hospitalized_confirmed_covid_7_day_sum', 'county_vac_pct', 'SVI__A', 'SVI__B', 'SVI__C', 'SVI__D', 'tot_male', 'tot_female', 'tot_wa_pop', 'tot_ba_pop', 'tot_aa_pop', 'tot_na_pop', 'minority_group_total']\n"
     ]
    }
   ],
   "source": [
    "numerical_features = df.select_dtypes(include= 'number').columns.tolist()\n",
    "print(f'There are {len(numerical_features)} numerical features:','\\n')\n",
    "print(numerical_features)"
   ]
  },
  {
   "cell_type": "markdown",
   "id": "5105175b",
   "metadata": {},
   "source": [
    "#### Check for nulls"
   ]
  },
  {
   "cell_type": "code",
   "execution_count": 5,
   "id": "bfa0cc2b",
   "metadata": {
    "ExecuteTime": {
     "end_time": "2022-01-29T01:21:11.085910Z",
     "start_time": "2022-01-29T01:21:11.071947Z"
    }
   },
   "outputs": [
    {
     "data": {
      "text/plain": [
       "county_fips_code                                                 0\n",
       "cases                                                            0\n",
       "deaths                                                           0\n",
       "tot_pop                                                          0\n",
       "deaths_per_hun_thou                                              0\n",
       "unemployment_rate                                                1\n",
       "med_cases_per_100k_change                                        0\n",
       "med_per_test_results_positive                                   18\n",
       "transmission_level_high                                          0\n",
       "transmission_level_low                                           0\n",
       "transmission_level_moderate                                      0\n",
       "transmission_level_substantial                                   0\n",
       "InBedsOccAnyPat__Numbeds_Est                                     1\n",
       "InBedsOccCOVID__Numbeds_Est                                      1\n",
       "ICUBedsOccAnyPat__N_ICUBeds_Est                                  1\n",
       "cases_per_10k                                                    0\n",
       "high_transmission                                                0\n",
       "mask_never                                                       0\n",
       "mask_rarely                                                      0\n",
       "mask_sometimes                                                   0\n",
       "mask_frequently                                                  0\n",
       "mask_always                                                      0\n",
       "good_masking_practices                                           0\n",
       "biden_votes                                                     25\n",
       "trump_votes                                                     25\n",
       "total_votes                                                     26\n",
       "land_area_sqmi                                                   0\n",
       "population_density                                               0\n",
       "total_beds_7_day_sum                                           703\n",
       "inpatient_beds_used_7_day_sum                                  703\n",
       "inpatient_beds_used_covid_7_day_sum                            703\n",
       "inpatient_beds_7_day_sum                                       703\n",
       "total_icu_beds_7_day_sum                                       703\n",
       "total_staffed_adult_icu_beds_7_day_sum                         703\n",
       "icu_beds_used_7_day_sum                                        703\n",
       "staffed_icu_adult_patients_confirmed_covid_7_day_sum           703\n",
       "total_adult_patients_hospitalized_confirmed_covid_7_day_sum    703\n",
       "county_vac_pct                                                   1\n",
       "SVI__A                                                           1\n",
       "SVI__B                                                           1\n",
       "SVI__C                                                           1\n",
       "SVI__D                                                           1\n",
       "tot_male                                                         0\n",
       "tot_female                                                       0\n",
       "tot_wa_pop                                                       0\n",
       "tot_ba_pop                                                       0\n",
       "tot_aa_pop                                                       0\n",
       "tot_na_pop                                                       0\n",
       "minority_group_total                                             0\n",
       "dtype: int64"
      ]
     },
     "execution_count": 5,
     "metadata": {},
     "output_type": "execute_result"
    }
   ],
   "source": [
    "df[numerical_features].isnull().sum()"
   ]
  },
  {
   "cell_type": "markdown",
   "id": "ddab005c",
   "metadata": {},
   "source": [
    "#### Changing target variable to binary "
   ]
  },
  {
   "cell_type": "code",
   "execution_count": 6,
   "id": "44263f7c",
   "metadata": {
    "ExecuteTime": {
     "end_time": "2022-01-29T01:21:11.459418Z",
     "start_time": "2022-01-29T01:21:11.087905Z"
    }
   },
   "outputs": [
    {
     "data": {
      "text/plain": [
       "0    2349\n",
       "1     784\n",
       "Name: deaths_per_hun_thou, dtype: int64"
      ]
     },
     "execution_count": 6,
     "metadata": {},
     "output_type": "execute_result"
    }
   ],
   "source": [
    "df.deaths_per_hun_thou = df.deaths_per_hun_thou.map(lambda x : 0 if x < np.percentile(df.deaths_per_hun_thou, 75) else 1)\n",
    "df.deaths_per_hun_thou.value_counts()"
   ]
  },
  {
   "cell_type": "markdown",
   "id": "c3387789",
   "metadata": {},
   "source": [
    "#### Baseline score"
   ]
  },
  {
   "cell_type": "code",
   "execution_count": 7,
   "id": "c57538cc",
   "metadata": {
    "ExecuteTime": {
     "end_time": "2022-01-29T01:21:11.474379Z",
     "start_time": "2022-01-29T01:21:11.460416Z"
    }
   },
   "outputs": [
    {
     "data": {
      "text/plain": [
       "0.7497606128311523"
      ]
     },
     "execution_count": 7,
     "metadata": {},
     "output_type": "execute_result"
    }
   ],
   "source": [
    "1 - df.deaths_per_hun_thou.mean()"
   ]
  },
  {
   "cell_type": "markdown",
   "id": "e07159c8",
   "metadata": {},
   "source": [
    "### Transformations"
   ]
  },
  {
   "cell_type": "markdown",
   "id": "bde4dd75",
   "metadata": {},
   "source": [
    "#### Possible features that correlate too much with each other (PCA should have taken care of them)\n",
    "*'mask_never', 'mask_rarely', 'mask_sometimes', 'mask_frequently', 'mask_always','cases_per_10k', 'high_transmission', 'total_beds_7_day_sum'*\n",
    "\n",
    "- `deaths_per_hun_thou` is the target variable\n",
    "- `deaths` is too correlated to the target variable\n",
    "- `county_fips_code` is just an ID number"
   ]
  },
  {
   "cell_type": "code",
   "execution_count": 8,
   "id": "e346ff4d",
   "metadata": {
    "ExecuteTime": {
     "end_time": "2022-01-29T01:21:11.504805Z",
     "start_time": "2022-01-29T01:21:11.479367Z"
    }
   },
   "outputs": [
    {
     "name": "stdout",
     "output_type": "stream",
     "text": [
      "There are NOW 46 numerical features: \n",
      "\n",
      "['cases', 'tot_pop', 'unemployment_rate', 'med_cases_per_100k_change', 'med_per_test_results_positive', 'transmission_level_high', 'transmission_level_low', 'transmission_level_moderate', 'transmission_level_substantial', 'InBedsOccAnyPat__Numbeds_Est', 'InBedsOccCOVID__Numbeds_Est', 'ICUBedsOccAnyPat__N_ICUBeds_Est', 'cases_per_10k', 'high_transmission', 'mask_never', 'mask_rarely', 'mask_sometimes', 'mask_frequently', 'mask_always', 'good_masking_practices', 'biden_votes', 'trump_votes', 'total_votes', 'land_area_sqmi', 'population_density', 'total_beds_7_day_sum', 'inpatient_beds_used_7_day_sum', 'inpatient_beds_used_covid_7_day_sum', 'inpatient_beds_7_day_sum', 'total_icu_beds_7_day_sum', 'total_staffed_adult_icu_beds_7_day_sum', 'icu_beds_used_7_day_sum', 'staffed_icu_adult_patients_confirmed_covid_7_day_sum', 'total_adult_patients_hospitalized_confirmed_covid_7_day_sum', 'county_vac_pct', 'SVI__A', 'SVI__B', 'SVI__C', 'SVI__D', 'tot_male', 'tot_female', 'tot_wa_pop', 'tot_ba_pop', 'tot_aa_pop', 'tot_na_pop', 'minority_group_total']\n"
     ]
    }
   ],
   "source": [
    "# dropping numerical features that are redudant or unecessary\n",
    "\n",
    "numerical_features_t = df.drop(['deaths_per_hun_thou','deaths','county_fips_code'],axis = 1).select_dtypes(include= 'number').columns.tolist()\n",
    "print(f'There are NOW {len(numerical_features_t)} numerical features:','\\n')\n",
    "print(numerical_features_t)"
   ]
  },
  {
   "cell_type": "code",
   "execution_count": 9,
   "id": "69d36a5c",
   "metadata": {
    "ExecuteTime": {
     "end_time": "2022-01-29T01:21:11.520762Z",
     "start_time": "2022-01-29T01:21:11.506800Z"
    }
   },
   "outputs": [],
   "source": [
    "# pipe imputes missing data and scales it\n",
    "numeric_pipeline = Pipeline(steps=[\n",
    "    ('impute', IterativeImputer(random_state=73,\n",
    "                               initial_strategy='median')),\n",
    "    ('scale', StandardScaler())\n",
    "])\n"
   ]
  },
  {
   "cell_type": "code",
   "execution_count": 10,
   "id": "f8301bf1",
   "metadata": {
    "ExecuteTime": {
     "end_time": "2022-01-29T01:21:11.536719Z",
     "start_time": "2022-01-29T01:21:11.521760Z"
    }
   },
   "outputs": [],
   "source": [
    "# fits the pipe to the raw data\n",
    "full_processor = ColumnTransformer(transformers=[\n",
    "    ('number', numeric_pipeline, numerical_features_t)\n",
    "])"
   ]
  },
  {
   "cell_type": "markdown",
   "id": "58564c6f",
   "metadata": {},
   "source": [
    "#### Modeling "
   ]
  },
  {
   "cell_type": "code",
   "execution_count": 11,
   "id": "aa55e72e",
   "metadata": {
    "ExecuteTime": {
     "end_time": "2022-01-29T01:21:11.552677Z",
     "start_time": "2022-01-29T01:21:11.537717Z"
    }
   },
   "outputs": [],
   "source": [
    "X = df[numerical_features_t]\n",
    "y = df.deaths_per_hun_thou\n",
    "\n",
    "X_train, X_valid, y_train, y_valid = train_test_split(X, y, test_size=.3, random_state=42)"
   ]
  },
  {
   "cell_type": "code",
   "execution_count": 12,
   "id": "156842be",
   "metadata": {
    "ExecuteTime": {
     "end_time": "2022-01-29T01:21:11.568634Z",
     "start_time": "2022-01-29T01:21:11.553675Z"
    }
   },
   "outputs": [],
   "source": [
    "# fit all variables to logreg pipeline\n",
    "log_reg = LogisticRegression(max_iter=10000, tol=0.1)\n",
    "\n",
    "log_reg_pipe = Pipeline(steps=[\n",
    "    ('preprocess', full_processor),\n",
    "    ('model', log_reg)\n",
    "])"
   ]
  },
  {
   "cell_type": "code",
   "execution_count": 13,
   "id": "0debf9de",
   "metadata": {
    "ExecuteTime": {
     "end_time": "2022-01-29T01:21:12.209933Z",
     "start_time": "2022-01-29T01:21:11.569632Z"
    }
   },
   "outputs": [],
   "source": [
    "_ = log_reg_pipe.fit(X_train, y_train)\n",
    "\n",
    "# log_reg_pipe.score(X_valid, y_valid)"
   ]
  },
  {
   "cell_type": "markdown",
   "id": "6d4bff7b",
   "metadata": {},
   "source": [
    "### PCA"
   ]
  },
  {
   "cell_type": "code",
   "execution_count": 14,
   "id": "c41d98be",
   "metadata": {
    "ExecuteTime": {
     "end_time": "2022-01-29T01:21:12.224893Z",
     "start_time": "2022-01-29T01:21:12.210931Z"
    }
   },
   "outputs": [],
   "source": [
    "pca = PCA()\n",
    "log_reg = LogisticRegression()\n",
    "\n",
    "log_reg_pipe = Pipeline(steps=[\n",
    "    ('preprocess', full_processor),\n",
    "    ('pca',pca),\n",
    "    ('model', log_reg)\n",
    "])"
   ]
  },
  {
   "cell_type": "code",
   "execution_count": 15,
   "id": "eeac7c96",
   "metadata": {
    "ExecuteTime": {
     "end_time": "2022-01-29T01:22:55.445738Z",
     "start_time": "2022-01-29T01:21:12.225894Z"
    }
   },
   "outputs": [
    {
     "name": "stdout",
     "output_type": "stream",
     "text": [
      "Best parameter (CV score=0.767):\n",
      "{'model__C': 21.54434690031882, 'model__penalty': 'l2', 'pca__n_components': 25}\n"
     ]
    }
   ],
   "source": [
    "# perform GridSearch on logreg pipeline /w PCA\n",
    "param_grid = {\n",
    "    \"pca__n_components\": [5, 15, 20, 25, 30],\n",
    "    \"model__C\": np.logspace(-4, 4, 4),\n",
    "    \"model__penalty\": ['l1','l2']\n",
    "}\n",
    "search = GridSearchCV(log_reg_pipe, param_grid, n_jobs=2)\n",
    "search.fit(X_train, y_train)\n",
    "print(\"Best parameter (CV score=%0.3f):\" % search.best_score_)\n",
    "print(search.best_params_)"
   ]
  },
  {
   "cell_type": "markdown",
   "id": "94aabc80",
   "metadata": {},
   "source": [
    "#### Determining principle components"
   ]
  },
  {
   "cell_type": "code",
   "execution_count": 16,
   "id": "b08cf3ee",
   "metadata": {
    "ExecuteTime": {
     "end_time": "2022-01-29T01:22:56.157342Z",
     "start_time": "2022-01-29T01:22:55.446736Z"
    }
   },
   "outputs": [
    {
     "data": {
      "text/plain": [
       "PCA()"
      ]
     },
     "execution_count": 16,
     "metadata": {},
     "output_type": "execute_result"
    }
   ],
   "source": [
    "pca.fit(full_processor.fit_transform(X_train))"
   ]
  },
  {
   "cell_type": "code",
   "execution_count": 17,
   "id": "a905d7ee",
   "metadata": {
    "ExecuteTime": {
     "end_time": "2022-01-29T01:22:56.362792Z",
     "start_time": "2022-01-29T01:22:56.159336Z"
    }
   },
   "outputs": [
    {
     "data": {
      "image/png": "[encoded data removed]",
      "text/plain": [
       "<Figure size 576x432 with 1 Axes>"
      ]
     },
     "metadata": {
      "needs_background": "light"
     },
     "output_type": "display_data"
    }
   ],
   "source": [
    "fig, ax = plt.subplots(figsize=(8,6))\n",
    "ax.plot(range(1,47), pca.explained_variance_ratio_, lw=2)\n",
    "ax.scatter(range(1,47), pca.explained_variance_ratio_, s=100)\n",
    "ax.set_title('explained variance of components')\n",
    "ax.set_xlabel('principal component')\n",
    "ax.set_ylabel('explained variance');"
   ]
  },
  {
   "cell_type": "code",
   "execution_count": 18,
   "id": "507717c0",
   "metadata": {
    "ExecuteTime": {
     "end_time": "2022-01-29T01:22:56.663040Z",
     "start_time": "2022-01-29T01:22:56.364787Z"
    }
   },
   "outputs": [
    {
     "data": {
      "image/png": "[encoded data removed]",
      "text/plain": [
       "<Figure size 432x432 with 2 Axes>"
      ]
     },
     "metadata": {
      "needs_background": "light"
     },
     "output_type": "display_data"
    }
   ],
   "source": [
    "fig, (ax0, ax1) = plt.subplots(nrows=2, sharex=True, figsize=(6, 6))\n",
    "ax0.plot(\n",
    "    np.arange(1, pca.n_components_ + 1), pca.explained_variance_ratio_, \"+\", linewidth=2\n",
    ")\n",
    "ax0.set_ylabel(\"PCA explained variance ratio\")\n",
    "\n",
    "\n",
    "# For each number of components, find the best classifier results\n",
    "results = pd.DataFrame(search.cv_results_)\n",
    "components_col = \"param_pca__n_components\"\n",
    "best_clfs = results.groupby(components_col).apply(\n",
    "    lambda g: g.nlargest(1, \"mean_test_score\")\n",
    ")\n",
    "\n",
    "best_clfs.plot(\n",
    "    x=components_col, y=\"mean_test_score\", yerr=\"std_test_score\", legend=False, ax=ax1\n",
    ")\n",
    "ax1.set_ylabel(\"Classification accuracy (val)\")\n",
    "ax1.set_xlabel(\"n_components\")\n",
    "\n",
    "plt.xlim(-1, 40)\n",
    "\n",
    "plt.tight_layout()\n",
    "plt.show()"
   ]
  },
  {
   "cell_type": "code",
   "execution_count": 19,
   "id": "64c2a162",
   "metadata": {
    "ExecuteTime": {
     "end_time": "2022-01-29T01:22:56.678997Z",
     "start_time": "2022-01-29T01:22:56.664038Z"
    }
   },
   "outputs": [
    {
     "data": {
      "text/plain": [
       "0.6812125738544194"
      ]
     },
     "execution_count": 19,
     "metadata": {},
     "output_type": "execute_result"
    }
   ],
   "source": [
    "# 5 components make up ~70% of the variance ratio\n",
    "sum(pca.explained_variance_ratio_[:5])"
   ]
  },
  {
   "cell_type": "code",
   "execution_count": 20,
   "id": "b756a62b",
   "metadata": {
    "ExecuteTime": {
     "end_time": "2022-01-29T01:23:00.048534Z",
     "start_time": "2022-01-29T01:22:56.679994Z"
    }
   },
   "outputs": [
    {
     "data": {
      "text/html": [
       "<div>\n",
       "<style scoped>\n",
       "    .dataframe tbody tr th:only-of-type {\n",
       "        vertical-align: middle;\n",
       "    }\n",
       "\n",
       "    .dataframe tbody tr th {\n",
       "        vertical-align: top;\n",
       "    }\n",
       "\n",
       "    .dataframe thead th {\n",
       "        text-align: right;\n",
       "    }\n",
       "</style>\n",
       "<table border=\"1\" class=\"dataframe\">\n",
       "  <thead>\n",
       "    <tr style=\"text-align: right;\">\n",
       "      <th></th>\n",
       "      <th>pr_comp_0</th>\n",
       "      <th>pr_comp_1</th>\n",
       "      <th>pr_comp_2</th>\n",
       "      <th>pr_comp_3</th>\n",
       "      <th>pr_comp_4</th>\n",
       "      <th>pr_comp_5</th>\n",
       "      <th>pr_comp_6</th>\n",
       "      <th>pr_comp_7</th>\n",
       "      <th>pr_comp_8</th>\n",
       "      <th>pr_comp_9</th>\n",
       "      <th>...</th>\n",
       "      <th>pr_comp_36</th>\n",
       "      <th>pr_comp_37</th>\n",
       "      <th>pr_comp_38</th>\n",
       "      <th>pr_comp_39</th>\n",
       "      <th>pr_comp_40</th>\n",
       "      <th>pr_comp_41</th>\n",
       "      <th>pr_comp_42</th>\n",
       "      <th>pr_comp_43</th>\n",
       "      <th>pr_comp_44</th>\n",
       "      <th>pr_comp_45</th>\n",
       "    </tr>\n",
       "  </thead>\n",
       "  <tbody>\n",
       "    <tr>\n",
       "      <th>0</th>\n",
       "      <td>-0.585097</td>\n",
       "      <td>-0.783503</td>\n",
       "      <td>-3.154178</td>\n",
       "      <td>0.914542</td>\n",
       "      <td>-0.612056</td>\n",
       "      <td>0.560723</td>\n",
       "      <td>-2.078037</td>\n",
       "      <td>1.390703</td>\n",
       "      <td>-0.188246</td>\n",
       "      <td>1.430113</td>\n",
       "      <td>...</td>\n",
       "      <td>0.009004</td>\n",
       "      <td>0.001283</td>\n",
       "      <td>-0.003296</td>\n",
       "      <td>-0.001770</td>\n",
       "      <td>-0.000905</td>\n",
       "      <td>-0.000943</td>\n",
       "      <td>-0.002698</td>\n",
       "      <td>0.001963</td>\n",
       "      <td>-0.000634</td>\n",
       "      <td>0.000447</td>\n",
       "    </tr>\n",
       "    <tr>\n",
       "      <th>1</th>\n",
       "      <td>1.171203</td>\n",
       "      <td>-0.913908</td>\n",
       "      <td>-0.266487</td>\n",
       "      <td>0.226877</td>\n",
       "      <td>-1.484660</td>\n",
       "      <td>0.016580</td>\n",
       "      <td>0.732758</td>\n",
       "      <td>-0.046347</td>\n",
       "      <td>1.649595</td>\n",
       "      <td>2.735149</td>\n",
       "      <td>...</td>\n",
       "      <td>-0.016122</td>\n",
       "      <td>-0.006220</td>\n",
       "      <td>-0.019453</td>\n",
       "      <td>0.008012</td>\n",
       "      <td>-0.012408</td>\n",
       "      <td>0.003493</td>\n",
       "      <td>0.002840</td>\n",
       "      <td>0.001834</td>\n",
       "      <td>-0.002124</td>\n",
       "      <td>-0.000104</td>\n",
       "    </tr>\n",
       "    <tr>\n",
       "      <th>2</th>\n",
       "      <td>-0.853082</td>\n",
       "      <td>-1.367427</td>\n",
       "      <td>-2.469864</td>\n",
       "      <td>1.089511</td>\n",
       "      <td>0.850954</td>\n",
       "      <td>0.934161</td>\n",
       "      <td>0.368016</td>\n",
       "      <td>-0.596684</td>\n",
       "      <td>0.058711</td>\n",
       "      <td>0.474875</td>\n",
       "      <td>...</td>\n",
       "      <td>0.003098</td>\n",
       "      <td>0.000776</td>\n",
       "      <td>0.011167</td>\n",
       "      <td>-0.001012</td>\n",
       "      <td>0.002401</td>\n",
       "      <td>-0.001514</td>\n",
       "      <td>0.000310</td>\n",
       "      <td>0.002892</td>\n",
       "      <td>-0.002539</td>\n",
       "      <td>0.000423</td>\n",
       "    </tr>\n",
       "    <tr>\n",
       "      <th>3</th>\n",
       "      <td>-0.588815</td>\n",
       "      <td>-2.638212</td>\n",
       "      <td>-1.995376</td>\n",
       "      <td>0.295280</td>\n",
       "      <td>0.105205</td>\n",
       "      <td>-1.201434</td>\n",
       "      <td>0.102958</td>\n",
       "      <td>1.616187</td>\n",
       "      <td>1.345712</td>\n",
       "      <td>1.375651</td>\n",
       "      <td>...</td>\n",
       "      <td>0.005177</td>\n",
       "      <td>0.001191</td>\n",
       "      <td>0.007246</td>\n",
       "      <td>-0.002974</td>\n",
       "      <td>0.001562</td>\n",
       "      <td>0.003671</td>\n",
       "      <td>-0.002291</td>\n",
       "      <td>-0.005133</td>\n",
       "      <td>0.005257</td>\n",
       "      <td>-0.000702</td>\n",
       "    </tr>\n",
       "    <tr>\n",
       "      <th>4</th>\n",
       "      <td>-0.862985</td>\n",
       "      <td>-0.339456</td>\n",
       "      <td>-2.987576</td>\n",
       "      <td>0.928540</td>\n",
       "      <td>-0.182505</td>\n",
       "      <td>0.744623</td>\n",
       "      <td>-2.528217</td>\n",
       "      <td>0.435162</td>\n",
       "      <td>0.375957</td>\n",
       "      <td>0.592250</td>\n",
       "      <td>...</td>\n",
       "      <td>0.007318</td>\n",
       "      <td>-0.001401</td>\n",
       "      <td>-0.002076</td>\n",
       "      <td>-0.002346</td>\n",
       "      <td>-0.001186</td>\n",
       "      <td>-0.002063</td>\n",
       "      <td>-0.000896</td>\n",
       "      <td>0.001010</td>\n",
       "      <td>-0.000675</td>\n",
       "      <td>0.000283</td>\n",
       "    </tr>\n",
       "  </tbody>\n",
       "</table>\n",
       "<p>5 rows × 46 columns</p>\n",
       "</div>"
      ],
      "text/plain": [
       "   pr_comp_0  pr_comp_1  pr_comp_2  pr_comp_3  pr_comp_4  pr_comp_5  \\\n",
       "0  -0.585097  -0.783503  -3.154178   0.914542  -0.612056   0.560723   \n",
       "1   1.171203  -0.913908  -0.266487   0.226877  -1.484660   0.016580   \n",
       "2  -0.853082  -1.367427  -2.469864   1.089511   0.850954   0.934161   \n",
       "3  -0.588815  -2.638212  -1.995376   0.295280   0.105205  -1.201434   \n",
       "4  -0.862985  -0.339456  -2.987576   0.928540  -0.182505   0.744623   \n",
       "\n",
       "   pr_comp_6  pr_comp_7  pr_comp_8  pr_comp_9  ...  pr_comp_36  pr_comp_37  \\\n",
       "0  -2.078037   1.390703  -0.188246   1.430113  ...    0.009004    0.001283   \n",
       "1   0.732758  -0.046347   1.649595   2.735149  ...   -0.016122   -0.006220   \n",
       "2   0.368016  -0.596684   0.058711   0.474875  ...    0.003098    0.000776   \n",
       "3   0.102958   1.616187   1.345712   1.375651  ...    0.005177    0.001191   \n",
       "4  -2.528217   0.435162   0.375957   0.592250  ...    0.007318   -0.001401   \n",
       "\n",
       "   pr_comp_38  pr_comp_39  pr_comp_40  pr_comp_41  pr_comp_42  pr_comp_43  \\\n",
       "0   -0.003296   -0.001770   -0.000905   -0.000943   -0.002698    0.001963   \n",
       "1   -0.019453    0.008012   -0.012408    0.003493    0.002840    0.001834   \n",
       "2    0.011167   -0.001012    0.002401   -0.001514    0.000310    0.002892   \n",
       "3    0.007246   -0.002974    0.001562    0.003671   -0.002291   -0.005133   \n",
       "4   -0.002076   -0.002346   -0.001186   -0.002063   -0.000896    0.001010   \n",
       "\n",
       "   pr_comp_44  pr_comp_45  \n",
       "0   -0.000634    0.000447  \n",
       "1   -0.002124   -0.000104  \n",
       "2   -0.002539    0.000423  \n",
       "3    0.005257   -0.000702  \n",
       "4   -0.000675    0.000283  \n",
       "\n",
       "[5 rows x 46 columns]"
      ]
     },
     "execution_count": 20,
     "metadata": {},
     "output_type": "execute_result"
    }
   ],
   "source": [
    "# map the pc's to a dataframe \n",
    "pca_df = pd.DataFrame(pca.transform(full_processor.fit_transform(X)),\n",
    "                      columns=['pr_comp_' + str(i) for i in range(full_processor.fit_transform(X).shape[1])])\n",
    "pca_df.head()"
   ]
  },
  {
   "cell_type": "markdown",
   "id": "a042d927",
   "metadata": {},
   "source": [
    "#### Modeling with the priciple components"
   ]
  },
  {
   "cell_type": "code",
   "execution_count": 21,
   "id": "1918fb9e",
   "metadata": {
    "ExecuteTime": {
     "end_time": "2022-01-29T01:23:00.063495Z",
     "start_time": "2022-01-29T01:23:00.050529Z"
    }
   },
   "outputs": [],
   "source": [
    "pca_df['deaths_per_hun_thou'] = list(df.deaths_per_hun_thou)"
   ]
  },
  {
   "cell_type": "code",
   "execution_count": 22,
   "id": "0d04d3ac",
   "metadata": {
    "ExecuteTime": {
     "end_time": "2022-01-29T01:23:00.127323Z",
     "start_time": "2022-01-29T01:23:00.065489Z"
    }
   },
   "outputs": [
    {
     "data": {
      "text/plain": [
       "(0.76, '+-', 0.03)"
      ]
     },
     "execution_count": 22,
     "metadata": {},
     "output_type": "execute_result"
    }
   ],
   "source": [
    "# determine the precision score with standard deviation\n",
    "lr = LogisticRegression(C=10000, penalty='l2')\n",
    "\n",
    "scores = cross_val_score(lr,\n",
    "                         pca_df.iloc[:, :5],\n",
    "                         pca_df.iloc[:, -1],\n",
    "                         cv=KFold(n_splits=5,\n",
    "                                  shuffle=True,\n",
    "                                  random_state=73))\n",
    "\n",
    "round(scores.mean(), 2), '+-', round(2 * scores.std(), 2)"
   ]
  },
  {
   "cell_type": "code",
   "execution_count": 23,
   "id": "c484e2b7",
   "metadata": {
    "ExecuteTime": {
     "end_time": "2022-01-29T01:23:00.143281Z",
     "start_time": "2022-01-29T01:23:00.130316Z"
    }
   },
   "outputs": [],
   "source": [
    "# combine coeff values and description\n",
    "# based off of GridSearches best estimates\n",
    "coeff_val = np.exp(search.best_estimator_.named_steps.model.coef_)\n",
    "\n",
    "coeff = numerical_features_t\n",
    "coeff_zip = zip(coeff,coeff_val[0])\n",
    "c_l = list(coeff_zip)"
   ]
  },
  {
   "cell_type": "code",
   "execution_count": 24,
   "id": "33f9d821",
   "metadata": {
    "ExecuteTime": {
     "end_time": "2022-01-29T01:23:00.159238Z",
     "start_time": "2022-01-29T01:23:00.144278Z"
    }
   },
   "outputs": [
    {
     "data": {
      "text/html": [
       "<div>\n",
       "<style scoped>\n",
       "    .dataframe tbody tr th:only-of-type {\n",
       "        vertical-align: middle;\n",
       "    }\n",
       "\n",
       "    .dataframe tbody tr th {\n",
       "        vertical-align: top;\n",
       "    }\n",
       "\n",
       "    .dataframe thead th {\n",
       "        text-align: right;\n",
       "    }\n",
       "</style>\n",
       "<table border=\"1\" class=\"dataframe\">\n",
       "  <thead>\n",
       "    <tr style=\"text-align: right;\">\n",
       "      <th></th>\n",
       "      <th>Coefficient</th>\n",
       "      <th>Value</th>\n",
       "      <th>abs_Val</th>\n",
       "    </tr>\n",
       "  </thead>\n",
       "  <tbody>\n",
       "    <tr>\n",
       "      <th>23</th>\n",
       "      <td>land_area_sqmi</td>\n",
       "      <td>6.860659</td>\n",
       "      <td>6.860659</td>\n",
       "    </tr>\n",
       "    <tr>\n",
       "      <th>24</th>\n",
       "      <td>population_density</td>\n",
       "      <td>3.767365</td>\n",
       "      <td>3.767365</td>\n",
       "    </tr>\n",
       "    <tr>\n",
       "      <th>12</th>\n",
       "      <td>cases_per_10k</td>\n",
       "      <td>1.893702</td>\n",
       "      <td>1.893702</td>\n",
       "    </tr>\n",
       "    <tr>\n",
       "      <th>20</th>\n",
       "      <td>biden_votes</td>\n",
       "      <td>1.771853</td>\n",
       "      <td>1.771853</td>\n",
       "    </tr>\n",
       "    <tr>\n",
       "      <th>3</th>\n",
       "      <td>med_cases_per_100k_change</td>\n",
       "      <td>1.529283</td>\n",
       "      <td>1.529283</td>\n",
       "    </tr>\n",
       "  </tbody>\n",
       "</table>\n",
       "</div>"
      ],
      "text/plain": [
       "                  Coefficient     Value   abs_Val\n",
       "23             land_area_sqmi  6.860659  6.860659\n",
       "24         population_density  3.767365  3.767365\n",
       "12              cases_per_10k  1.893702  1.893702\n",
       "20                biden_votes  1.771853  1.771853\n",
       "3   med_cases_per_100k_change  1.529283  1.529283"
      ]
     },
     "execution_count": 24,
     "metadata": {},
     "output_type": "execute_result"
    }
   ],
   "source": [
    "# map to dataframe and sort for readablity\n",
    "# Coeffecients that explain the HIGHEST varience in the target\n",
    "df_fin =  pd.DataFrame(c_l,columns = ['Coefficient', 'Value'])\n",
    "df_fin['abs_Val'] = df_fin['Value'].map(lambda x : abs(x))\n",
    "df_fin.sort_values(by = 'abs_Val', ascending  = False)[:5]"
   ]
  },
  {
   "cell_type": "code",
   "execution_count": 25,
   "id": "4fde075d",
   "metadata": {
    "ExecuteTime": {
     "end_time": "2022-01-29T01:23:00.175196Z",
     "start_time": "2022-01-29T01:23:00.161233Z"
    }
   },
   "outputs": [
    {
     "data": {
      "text/html": [
       "<div>\n",
       "<style scoped>\n",
       "    .dataframe tbody tr th:only-of-type {\n",
       "        vertical-align: middle;\n",
       "    }\n",
       "\n",
       "    .dataframe tbody tr th {\n",
       "        vertical-align: top;\n",
       "    }\n",
       "\n",
       "    .dataframe thead th {\n",
       "        text-align: right;\n",
       "    }\n",
       "</style>\n",
       "<table border=\"1\" class=\"dataframe\">\n",
       "  <thead>\n",
       "    <tr style=\"text-align: right;\">\n",
       "      <th></th>\n",
       "      <th>Coefficient</th>\n",
       "      <th>Value</th>\n",
       "      <th>abs_Val</th>\n",
       "    </tr>\n",
       "  </thead>\n",
       "  <tbody>\n",
       "    <tr>\n",
       "      <th>22</th>\n",
       "      <td>total_votes</td>\n",
       "      <td>0.013513</td>\n",
       "      <td>0.013513</td>\n",
       "    </tr>\n",
       "    <tr>\n",
       "      <th>5</th>\n",
       "      <td>transmission_level_high</td>\n",
       "      <td>0.129947</td>\n",
       "      <td>0.129947</td>\n",
       "    </tr>\n",
       "    <tr>\n",
       "      <th>8</th>\n",
       "      <td>transmission_level_substantial</td>\n",
       "      <td>0.136616</td>\n",
       "      <td>0.136616</td>\n",
       "    </tr>\n",
       "    <tr>\n",
       "      <th>15</th>\n",
       "      <td>mask_rarely</td>\n",
       "      <td>0.241862</td>\n",
       "      <td>0.241862</td>\n",
       "    </tr>\n",
       "    <tr>\n",
       "      <th>0</th>\n",
       "      <td>cases</td>\n",
       "      <td>0.310802</td>\n",
       "      <td>0.310802</td>\n",
       "    </tr>\n",
       "  </tbody>\n",
       "</table>\n",
       "</div>"
      ],
      "text/plain": [
       "                       Coefficient     Value   abs_Val\n",
       "22                     total_votes  0.013513  0.013513\n",
       "5          transmission_level_high  0.129947  0.129947\n",
       "8   transmission_level_substantial  0.136616  0.136616\n",
       "15                     mask_rarely  0.241862  0.241862\n",
       "0                            cases  0.310802  0.310802"
      ]
     },
     "execution_count": 25,
     "metadata": {},
     "output_type": "execute_result"
    }
   ],
   "source": [
    "# Coeffecients that explain the LOWEST varience in the target\n",
    "df_fin.sort_values(by = 'abs_Val', ascending  = True)[:5]"
   ]
  }
 ],
 "metadata": {
  "kernelspec": {
   "display_name": "Python 3 (ipykernel)",
   "language": "python",
   "name": "python3"
  },
  "language_info": {
   "codemirror_mode": {
    "name": "ipython",
    "version": 3
   },
   "file_extension": ".py",
   "mimetype": "text/x-python",
   "name": "python",
   "nbconvert_exporter": "python",
   "pygments_lexer": "ipython3",
   "version": "3.8.8"
  }
 },
 "nbformat": 4,
 "nbformat_minor": 5
}
